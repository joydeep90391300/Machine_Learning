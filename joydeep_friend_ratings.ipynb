{
  "nbformat": 4,
  "nbformat_minor": 0,
  "metadata": {
    "colab": {
      "name": "ahimsa_friend_ratings.ipynb",
      "provenance": [],
      "authorship_tag": "ABX9TyOIHCmiFyCsMaKoRFP2rDb4",
      "include_colab_link": true
    },
    "kernelspec": {
      "name": "python3",
      "display_name": "Python 3"
    },
    "language_info": {
      "name": "python"
    }
  },
  "cells": [
    {
      "cell_type": "markdown",
      "metadata": {
        "id": "view-in-github",
        "colab_type": "text"
      },
      "source": [
        "<a href=\"https://colab.research.google.com/github/ahimsaj/ML-Training/blob/main/ahimsa_friend_ratings.ipynb\" target=\"_parent\"><img src=\"https://colab.research.google.com/assets/colab-badge.svg\" alt=\"Open In Colab\"/></a>"
      ]
    },
    {
      "cell_type": "code",
      "execution_count": 1,
      "metadata": {
        "id": "UpM15IdSGSKR"
      },
      "outputs": [],
      "source": [
        "import numpy as np # linear algebra\n",
        "import pandas as pd # data processing, CSV file I/O (e.g. pd.read_csv)\n",
        "import os\n",
        "import seaborn as sns\n",
        "import plotly.express as px\n",
        "import matplotlib.pyplot as plt"
      ]
    },
    {
      "cell_type": "code",
      "source": [
        "train = pd.read_csv(\"/friends_train_ratings.csv\")"
      ],
      "metadata": {
        "id": "GB1qAoRQHuvY"
      },
      "execution_count": 2,
      "outputs": []
    },
    {
      "cell_type": "code",
      "source": [
        "train"
      ],
      "metadata": {
        "colab": {
          "base_uri": "https://localhost:8080/",
          "height": 424
        },
        "id": "lrEdyNYVH7lX",
        "outputId": "10aba53b-bb70-4683-ed46-9e1ab296e456"
      },
      "execution_count": 3,
      "outputs": [
        {
          "output_type": "execute_result",
          "data": {
            "text/plain": [
              "                                              title  \\\n",
              "0              The One Where Monica Gets a Roommate   \n",
              "1              The One with the Sonogram at the End   \n",
              "2                            The One with the Thumb   \n",
              "3                The One with George Stephanopoulos   \n",
              "4    The One with the East German Laundry Detergent   \n",
              "..                                              ...   \n",
              "190                  The One with the Cooking Class   \n",
              "191                    The One Where Rachel Is Late   \n",
              "192         The One Where Rachel Has a Baby: Part 1   \n",
              "193         The One Where Rachel Has a Baby: Part 2   \n",
              "194                   The One Where No One Proposes   \n",
              "\n",
              "                                                  plot  ratings          date  \\\n",
              "0    Monica and the gang introduce Rachel to the \"r...      8.3  22 Sep. 1994   \n",
              "1    Ross finds out his ex-wife is pregnant. Rachel...      8.0  29 Sep. 1994   \n",
              "2    Monica becomes irritated when everyone likes h...      8.1   6 Oct. 1994   \n",
              "3    Joey and Chandler take Ross to a hockey game t...      8.1  13 Oct. 1994   \n",
              "4    Eager to spend time with Rachel, Ross pretends...      8.4  20 Oct. 1994   \n",
              "..                                                 ...      ...           ...   \n",
              "190  Monica's restaurant get a bad review. After co...      8.1     02-May-02   \n",
              "191  Monica and Phoebe bet on when Rachel's baby wi...      8.3     09-May-02   \n",
              "192  Ross and Rachel go to the hospital to have the...      8.8     16-May-02   \n",
              "193  After Rachel gives birth to her baby, she must...      8.9     16-May-02   \n",
              "194  Rachel, Ross and Joey get together in a guyand...      8.6  26 Sep. 2002   \n",
              "\n",
              "    total_reviews  \n",
              "0          -8,583  \n",
              "1          -6,607  \n",
              "2          -6,213  \n",
              "3          -6,035  \n",
              "4          -6,029  \n",
              "..            ...  \n",
              "190        -3,688  \n",
              "191        -3,645  \n",
              "192        -3,981  \n",
              "193        -4,293  \n",
              "194        -4,033  \n",
              "\n",
              "[195 rows x 5 columns]"
            ],
            "text/html": [
              "\n",
              "  <div id=\"df-515fad1a-e959-459f-b2ee-68f259474ea8\">\n",
              "    <div class=\"colab-df-container\">\n",
              "      <div>\n",
              "<style scoped>\n",
              "    .dataframe tbody tr th:only-of-type {\n",
              "        vertical-align: middle;\n",
              "    }\n",
              "\n",
              "    .dataframe tbody tr th {\n",
              "        vertical-align: top;\n",
              "    }\n",
              "\n",
              "    .dataframe thead th {\n",
              "        text-align: right;\n",
              "    }\n",
              "</style>\n",
              "<table border=\"1\" class=\"dataframe\">\n",
              "  <thead>\n",
              "    <tr style=\"text-align: right;\">\n",
              "      <th></th>\n",
              "      <th>title</th>\n",
              "      <th>plot</th>\n",
              "      <th>ratings</th>\n",
              "      <th>date</th>\n",
              "      <th>total_reviews</th>\n",
              "    </tr>\n",
              "  </thead>\n",
              "  <tbody>\n",
              "    <tr>\n",
              "      <th>0</th>\n",
              "      <td>The One Where Monica Gets a Roommate</td>\n",
              "      <td>Monica and the gang introduce Rachel to the \"r...</td>\n",
              "      <td>8.3</td>\n",
              "      <td>22 Sep. 1994</td>\n",
              "      <td>-8,583</td>\n",
              "    </tr>\n",
              "    <tr>\n",
              "      <th>1</th>\n",
              "      <td>The One with the Sonogram at the End</td>\n",
              "      <td>Ross finds out his ex-wife is pregnant. Rachel...</td>\n",
              "      <td>8.0</td>\n",
              "      <td>29 Sep. 1994</td>\n",
              "      <td>-6,607</td>\n",
              "    </tr>\n",
              "    <tr>\n",
              "      <th>2</th>\n",
              "      <td>The One with the Thumb</td>\n",
              "      <td>Monica becomes irritated when everyone likes h...</td>\n",
              "      <td>8.1</td>\n",
              "      <td>6 Oct. 1994</td>\n",
              "      <td>-6,213</td>\n",
              "    </tr>\n",
              "    <tr>\n",
              "      <th>3</th>\n",
              "      <td>The One with George Stephanopoulos</td>\n",
              "      <td>Joey and Chandler take Ross to a hockey game t...</td>\n",
              "      <td>8.1</td>\n",
              "      <td>13 Oct. 1994</td>\n",
              "      <td>-6,035</td>\n",
              "    </tr>\n",
              "    <tr>\n",
              "      <th>4</th>\n",
              "      <td>The One with the East German Laundry Detergent</td>\n",
              "      <td>Eager to spend time with Rachel, Ross pretends...</td>\n",
              "      <td>8.4</td>\n",
              "      <td>20 Oct. 1994</td>\n",
              "      <td>-6,029</td>\n",
              "    </tr>\n",
              "    <tr>\n",
              "      <th>...</th>\n",
              "      <td>...</td>\n",
              "      <td>...</td>\n",
              "      <td>...</td>\n",
              "      <td>...</td>\n",
              "      <td>...</td>\n",
              "    </tr>\n",
              "    <tr>\n",
              "      <th>190</th>\n",
              "      <td>The One with the Cooking Class</td>\n",
              "      <td>Monica's restaurant get a bad review. After co...</td>\n",
              "      <td>8.1</td>\n",
              "      <td>02-May-02</td>\n",
              "      <td>-3,688</td>\n",
              "    </tr>\n",
              "    <tr>\n",
              "      <th>191</th>\n",
              "      <td>The One Where Rachel Is Late</td>\n",
              "      <td>Monica and Phoebe bet on when Rachel's baby wi...</td>\n",
              "      <td>8.3</td>\n",
              "      <td>09-May-02</td>\n",
              "      <td>-3,645</td>\n",
              "    </tr>\n",
              "    <tr>\n",
              "      <th>192</th>\n",
              "      <td>The One Where Rachel Has a Baby: Part 1</td>\n",
              "      <td>Ross and Rachel go to the hospital to have the...</td>\n",
              "      <td>8.8</td>\n",
              "      <td>16-May-02</td>\n",
              "      <td>-3,981</td>\n",
              "    </tr>\n",
              "    <tr>\n",
              "      <th>193</th>\n",
              "      <td>The One Where Rachel Has a Baby: Part 2</td>\n",
              "      <td>After Rachel gives birth to her baby, she must...</td>\n",
              "      <td>8.9</td>\n",
              "      <td>16-May-02</td>\n",
              "      <td>-4,293</td>\n",
              "    </tr>\n",
              "    <tr>\n",
              "      <th>194</th>\n",
              "      <td>The One Where No One Proposes</td>\n",
              "      <td>Rachel, Ross and Joey get together in a guyand...</td>\n",
              "      <td>8.6</td>\n",
              "      <td>26 Sep. 2002</td>\n",
              "      <td>-4,033</td>\n",
              "    </tr>\n",
              "  </tbody>\n",
              "</table>\n",
              "<p>195 rows × 5 columns</p>\n",
              "</div>\n",
              "      <button class=\"colab-df-convert\" onclick=\"convertToInteractive('df-515fad1a-e959-459f-b2ee-68f259474ea8')\"\n",
              "              title=\"Convert this dataframe to an interactive table.\"\n",
              "              style=\"display:none;\">\n",
              "        \n",
              "  <svg xmlns=\"http://www.w3.org/2000/svg\" height=\"24px\"viewBox=\"0 0 24 24\"\n",
              "       width=\"24px\">\n",
              "    <path d=\"M0 0h24v24H0V0z\" fill=\"none\"/>\n",
              "    <path d=\"M18.56 5.44l.94 2.06.94-2.06 2.06-.94-2.06-.94-.94-2.06-.94 2.06-2.06.94zm-11 1L8.5 8.5l.94-2.06 2.06-.94-2.06-.94L8.5 2.5l-.94 2.06-2.06.94zm10 10l.94 2.06.94-2.06 2.06-.94-2.06-.94-.94-2.06-.94 2.06-2.06.94z\"/><path d=\"M17.41 7.96l-1.37-1.37c-.4-.4-.92-.59-1.43-.59-.52 0-1.04.2-1.43.59L10.3 9.45l-7.72 7.72c-.78.78-.78 2.05 0 2.83L4 21.41c.39.39.9.59 1.41.59.51 0 1.02-.2 1.41-.59l7.78-7.78 2.81-2.81c.8-.78.8-2.07 0-2.86zM5.41 20L4 18.59l7.72-7.72 1.47 1.35L5.41 20z\"/>\n",
              "  </svg>\n",
              "      </button>\n",
              "      \n",
              "  <style>\n",
              "    .colab-df-container {\n",
              "      display:flex;\n",
              "      flex-wrap:wrap;\n",
              "      gap: 12px;\n",
              "    }\n",
              "\n",
              "    .colab-df-convert {\n",
              "      background-color: #E8F0FE;\n",
              "      border: none;\n",
              "      border-radius: 50%;\n",
              "      cursor: pointer;\n",
              "      display: none;\n",
              "      fill: #1967D2;\n",
              "      height: 32px;\n",
              "      padding: 0 0 0 0;\n",
              "      width: 32px;\n",
              "    }\n",
              "\n",
              "    .colab-df-convert:hover {\n",
              "      background-color: #E2EBFA;\n",
              "      box-shadow: 0px 1px 2px rgba(60, 64, 67, 0.3), 0px 1px 3px 1px rgba(60, 64, 67, 0.15);\n",
              "      fill: #174EA6;\n",
              "    }\n",
              "\n",
              "    [theme=dark] .colab-df-convert {\n",
              "      background-color: #3B4455;\n",
              "      fill: #D2E3FC;\n",
              "    }\n",
              "\n",
              "    [theme=dark] .colab-df-convert:hover {\n",
              "      background-color: #434B5C;\n",
              "      box-shadow: 0px 1px 3px 1px rgba(0, 0, 0, 0.15);\n",
              "      filter: drop-shadow(0px 1px 2px rgba(0, 0, 0, 0.3));\n",
              "      fill: #FFFFFF;\n",
              "    }\n",
              "  </style>\n",
              "\n",
              "      <script>\n",
              "        const buttonEl =\n",
              "          document.querySelector('#df-515fad1a-e959-459f-b2ee-68f259474ea8 button.colab-df-convert');\n",
              "        buttonEl.style.display =\n",
              "          google.colab.kernel.accessAllowed ? 'block' : 'none';\n",
              "\n",
              "        async function convertToInteractive(key) {\n",
              "          const element = document.querySelector('#df-515fad1a-e959-459f-b2ee-68f259474ea8');\n",
              "          const dataTable =\n",
              "            await google.colab.kernel.invokeFunction('convertToInteractive',\n",
              "                                                     [key], {});\n",
              "          if (!dataTable) return;\n",
              "\n",
              "          const docLinkHtml = 'Like what you see? Visit the ' +\n",
              "            '<a target=\"_blank\" href=https://colab.research.google.com/notebooks/data_table.ipynb>data table notebook</a>'\n",
              "            + ' to learn more about interactive tables.';\n",
              "          element.innerHTML = '';\n",
              "          dataTable['output_type'] = 'display_data';\n",
              "          await google.colab.output.renderOutput(dataTable, element);\n",
              "          const docLink = document.createElement('div');\n",
              "          docLink.innerHTML = docLinkHtml;\n",
              "          element.appendChild(docLink);\n",
              "        }\n",
              "      </script>\n",
              "    </div>\n",
              "  </div>\n",
              "  "
            ]
          },
          "metadata": {},
          "execution_count": 3
        }
      ]
    },
    {
      "cell_type": "code",
      "source": [
        "train.info()"
      ],
      "metadata": {
        "colab": {
          "base_uri": "https://localhost:8080/"
        },
        "id": "ra11IVFHH-Yz",
        "outputId": "b7d67a15-11c5-4e0e-d979-a02842553129"
      },
      "execution_count": 4,
      "outputs": [
        {
          "output_type": "stream",
          "name": "stdout",
          "text": [
            "<class 'pandas.core.frame.DataFrame'>\n",
            "RangeIndex: 195 entries, 0 to 194\n",
            "Data columns (total 5 columns):\n",
            " #   Column         Non-Null Count  Dtype  \n",
            "---  ------         --------------  -----  \n",
            " 0   title          195 non-null    object \n",
            " 1   plot           195 non-null    object \n",
            " 2   ratings        195 non-null    float64\n",
            " 3   date           195 non-null    object \n",
            " 4   total_reviews  195 non-null    object \n",
            "dtypes: float64(1), object(4)\n",
            "memory usage: 7.7+ KB\n"
          ]
        }
      ]
    },
    {
      "cell_type": "markdown",
      "source": [
        "Ratings feature"
      ],
      "metadata": {
        "id": "tzhMqx8VIGih"
      }
    },
    {
      "cell_type": "code",
      "source": [
        "px.histogram(train,x=\"ratings\",nbins=20,title=\"Ratings of episodes in the training dataset\")"
      ],
      "metadata": {
        "colab": {
          "base_uri": "https://localhost:8080/",
          "height": 542
        },
        "id": "jnkbR9-AII27",
        "outputId": "fa9496ea-8fa6-47c0-f67d-4538cb97f7ac"
      },
      "execution_count": 5,
      "outputs": [
        {
          "output_type": "display_data",
          "data": {
            "text/html": [
              "<html>\n",
              "<head><meta charset=\"utf-8\" /></head>\n",
              "<body>\n",
              "    <div>            <script src=\"https://cdnjs.cloudflare.com/ajax/libs/mathjax/2.7.5/MathJax.js?config=TeX-AMS-MML_SVG\"></script><script type=\"text/javascript\">if (window.MathJax) {MathJax.Hub.Config({SVG: {font: \"STIX-Web\"}});}</script>                <script type=\"text/javascript\">window.PlotlyConfig = {MathJaxConfig: 'local'};</script>\n",
              "        <script src=\"https://cdn.plot.ly/plotly-2.8.3.min.js\"></script>                <div id=\"7986e3c9-2124-4160-b16e-fe5b0540d643\" class=\"plotly-graph-div\" style=\"height:525px; width:100%;\"></div>            <script type=\"text/javascript\">                                    window.PLOTLYENV=window.PLOTLYENV || {};                                    if (document.getElementById(\"7986e3c9-2124-4160-b16e-fe5b0540d643\")) {                    Plotly.newPlot(                        \"7986e3c9-2124-4160-b16e-fe5b0540d643\",                        [{\"alignmentgroup\":\"True\",\"bingroup\":\"x\",\"hovertemplate\":\"ratings=%{x}<br>count=%{y}<extra></extra>\",\"legendgroup\":\"\",\"marker\":{\"color\":\"#636efa\",\"pattern\":{\"shape\":\"\"}},\"name\":\"\",\"nbinsx\":20,\"offsetgroup\":\"\",\"orientation\":\"v\",\"showlegend\":false,\"x\":[8.3,8.0,8.1,8.1,8.4,8.1,9.0,8.1,8.2,8.0,8.2,8.2,8.6,8.2,8.2,8.1,8.4,8.8,8.1,7.8,7.8,8.3,8.7,8.9,8.5,8.2,8.3,7.9,8.2,8.6,9.0,8.5,7.9,8.0,8.1,8.6,8.7,9.4,8.9,8.6,8.3,8.4,8.5,8.1,8.1,9.0,8.0,8.2,8.4,9.0,8.0,8.0,8.1,9.1,8.3,8.3,9.0,8.1,8.5,8.2,8.2,7.8,8.5,9.1,8.3,8.4,8.1,8.1,8.7,8.2,8.0,8.1,8.8,9.1,8.0,8.5,8.2,8.4,8.5,8.7,9.1,7.9,8.0,8.5,9.5,8.2,8.2,8.5,8.2,8.6,8.2,8.7,8.5,7.1,8.5,8.7,9.2,8.9,9.0,8.8,8.2,8.7,8.0,8.3,9.1,9.1,8.1,9.1,8.2,8.1,9.7,8.5,8.6,8.5,7.9,8.7,8.2,8.4,8.2,8.8,9.1,8.7,8.2,8.1,8.5,8.1,8.5,8.3,8.5,9.2,8.6,8.1,8.0,8.2,8.5,8.5,8.5,9.1,8.3,8.3,7.3,8.6,9.0,8.6,8.7,9.3,8.4,8.3,8.1,8.0,8.0,8.8,8.4,8.1,8.1,8.5,8.6,8.6,8.4,8.6,8.4,8.7,8.3,8.4,8.6,8.3,7.4,8.3,8.9,9.2,8.7,9.1,8.7,9.3,8.0,8.5,7.8,8.7,9.3,8.0,8.0,8.5,8.5,8.2,8.3,8.2,8.0,8.2,7.4,8.2,8.1,8.3,8.8,8.9,8.6],\"xaxis\":\"x\",\"yaxis\":\"y\",\"type\":\"histogram\"}],                        {\"template\":{\"data\":{\"bar\":[{\"error_x\":{\"color\":\"#2a3f5f\"},\"error_y\":{\"color\":\"#2a3f5f\"},\"marker\":{\"line\":{\"color\":\"#E5ECF6\",\"width\":0.5},\"pattern\":{\"fillmode\":\"overlay\",\"size\":10,\"solidity\":0.2}},\"type\":\"bar\"}],\"barpolar\":[{\"marker\":{\"line\":{\"color\":\"#E5ECF6\",\"width\":0.5},\"pattern\":{\"fillmode\":\"overlay\",\"size\":10,\"solidity\":0.2}},\"type\":\"barpolar\"}],\"carpet\":[{\"aaxis\":{\"endlinecolor\":\"#2a3f5f\",\"gridcolor\":\"white\",\"linecolor\":\"white\",\"minorgridcolor\":\"white\",\"startlinecolor\":\"#2a3f5f\"},\"baxis\":{\"endlinecolor\":\"#2a3f5f\",\"gridcolor\":\"white\",\"linecolor\":\"white\",\"minorgridcolor\":\"white\",\"startlinecolor\":\"#2a3f5f\"},\"type\":\"carpet\"}],\"choropleth\":[{\"colorbar\":{\"outlinewidth\":0,\"ticks\":\"\"},\"type\":\"choropleth\"}],\"contour\":[{\"colorbar\":{\"outlinewidth\":0,\"ticks\":\"\"},\"colorscale\":[[0.0,\"#0d0887\"],[0.1111111111111111,\"#46039f\"],[0.2222222222222222,\"#7201a8\"],[0.3333333333333333,\"#9c179e\"],[0.4444444444444444,\"#bd3786\"],[0.5555555555555556,\"#d8576b\"],[0.6666666666666666,\"#ed7953\"],[0.7777777777777778,\"#fb9f3a\"],[0.8888888888888888,\"#fdca26\"],[1.0,\"#f0f921\"]],\"type\":\"contour\"}],\"contourcarpet\":[{\"colorbar\":{\"outlinewidth\":0,\"ticks\":\"\"},\"type\":\"contourcarpet\"}],\"heatmap\":[{\"colorbar\":{\"outlinewidth\":0,\"ticks\":\"\"},\"colorscale\":[[0.0,\"#0d0887\"],[0.1111111111111111,\"#46039f\"],[0.2222222222222222,\"#7201a8\"],[0.3333333333333333,\"#9c179e\"],[0.4444444444444444,\"#bd3786\"],[0.5555555555555556,\"#d8576b\"],[0.6666666666666666,\"#ed7953\"],[0.7777777777777778,\"#fb9f3a\"],[0.8888888888888888,\"#fdca26\"],[1.0,\"#f0f921\"]],\"type\":\"heatmap\"}],\"heatmapgl\":[{\"colorbar\":{\"outlinewidth\":0,\"ticks\":\"\"},\"colorscale\":[[0.0,\"#0d0887\"],[0.1111111111111111,\"#46039f\"],[0.2222222222222222,\"#7201a8\"],[0.3333333333333333,\"#9c179e\"],[0.4444444444444444,\"#bd3786\"],[0.5555555555555556,\"#d8576b\"],[0.6666666666666666,\"#ed7953\"],[0.7777777777777778,\"#fb9f3a\"],[0.8888888888888888,\"#fdca26\"],[1.0,\"#f0f921\"]],\"type\":\"heatmapgl\"}],\"histogram\":[{\"marker\":{\"pattern\":{\"fillmode\":\"overlay\",\"size\":10,\"solidity\":0.2}},\"type\":\"histogram\"}],\"histogram2d\":[{\"colorbar\":{\"outlinewidth\":0,\"ticks\":\"\"},\"colorscale\":[[0.0,\"#0d0887\"],[0.1111111111111111,\"#46039f\"],[0.2222222222222222,\"#7201a8\"],[0.3333333333333333,\"#9c179e\"],[0.4444444444444444,\"#bd3786\"],[0.5555555555555556,\"#d8576b\"],[0.6666666666666666,\"#ed7953\"],[0.7777777777777778,\"#fb9f3a\"],[0.8888888888888888,\"#fdca26\"],[1.0,\"#f0f921\"]],\"type\":\"histogram2d\"}],\"histogram2dcontour\":[{\"colorbar\":{\"outlinewidth\":0,\"ticks\":\"\"},\"colorscale\":[[0.0,\"#0d0887\"],[0.1111111111111111,\"#46039f\"],[0.2222222222222222,\"#7201a8\"],[0.3333333333333333,\"#9c179e\"],[0.4444444444444444,\"#bd3786\"],[0.5555555555555556,\"#d8576b\"],[0.6666666666666666,\"#ed7953\"],[0.7777777777777778,\"#fb9f3a\"],[0.8888888888888888,\"#fdca26\"],[1.0,\"#f0f921\"]],\"type\":\"histogram2dcontour\"}],\"mesh3d\":[{\"colorbar\":{\"outlinewidth\":0,\"ticks\":\"\"},\"type\":\"mesh3d\"}],\"parcoords\":[{\"line\":{\"colorbar\":{\"outlinewidth\":0,\"ticks\":\"\"}},\"type\":\"parcoords\"}],\"pie\":[{\"automargin\":true,\"type\":\"pie\"}],\"scatter\":[{\"marker\":{\"colorbar\":{\"outlinewidth\":0,\"ticks\":\"\"}},\"type\":\"scatter\"}],\"scatter3d\":[{\"line\":{\"colorbar\":{\"outlinewidth\":0,\"ticks\":\"\"}},\"marker\":{\"colorbar\":{\"outlinewidth\":0,\"ticks\":\"\"}},\"type\":\"scatter3d\"}],\"scattercarpet\":[{\"marker\":{\"colorbar\":{\"outlinewidth\":0,\"ticks\":\"\"}},\"type\":\"scattercarpet\"}],\"scattergeo\":[{\"marker\":{\"colorbar\":{\"outlinewidth\":0,\"ticks\":\"\"}},\"type\":\"scattergeo\"}],\"scattergl\":[{\"marker\":{\"colorbar\":{\"outlinewidth\":0,\"ticks\":\"\"}},\"type\":\"scattergl\"}],\"scattermapbox\":[{\"marker\":{\"colorbar\":{\"outlinewidth\":0,\"ticks\":\"\"}},\"type\":\"scattermapbox\"}],\"scatterpolar\":[{\"marker\":{\"colorbar\":{\"outlinewidth\":0,\"ticks\":\"\"}},\"type\":\"scatterpolar\"}],\"scatterpolargl\":[{\"marker\":{\"colorbar\":{\"outlinewidth\":0,\"ticks\":\"\"}},\"type\":\"scatterpolargl\"}],\"scatterternary\":[{\"marker\":{\"colorbar\":{\"outlinewidth\":0,\"ticks\":\"\"}},\"type\":\"scatterternary\"}],\"surface\":[{\"colorbar\":{\"outlinewidth\":0,\"ticks\":\"\"},\"colorscale\":[[0.0,\"#0d0887\"],[0.1111111111111111,\"#46039f\"],[0.2222222222222222,\"#7201a8\"],[0.3333333333333333,\"#9c179e\"],[0.4444444444444444,\"#bd3786\"],[0.5555555555555556,\"#d8576b\"],[0.6666666666666666,\"#ed7953\"],[0.7777777777777778,\"#fb9f3a\"],[0.8888888888888888,\"#fdca26\"],[1.0,\"#f0f921\"]],\"type\":\"surface\"}],\"table\":[{\"cells\":{\"fill\":{\"color\":\"#EBF0F8\"},\"line\":{\"color\":\"white\"}},\"header\":{\"fill\":{\"color\":\"#C8D4E3\"},\"line\":{\"color\":\"white\"}},\"type\":\"table\"}]},\"layout\":{\"annotationdefaults\":{\"arrowcolor\":\"#2a3f5f\",\"arrowhead\":0,\"arrowwidth\":1},\"autotypenumbers\":\"strict\",\"coloraxis\":{\"colorbar\":{\"outlinewidth\":0,\"ticks\":\"\"}},\"colorscale\":{\"diverging\":[[0,\"#8e0152\"],[0.1,\"#c51b7d\"],[0.2,\"#de77ae\"],[0.3,\"#f1b6da\"],[0.4,\"#fde0ef\"],[0.5,\"#f7f7f7\"],[0.6,\"#e6f5d0\"],[0.7,\"#b8e186\"],[0.8,\"#7fbc41\"],[0.9,\"#4d9221\"],[1,\"#276419\"]],\"sequential\":[[0.0,\"#0d0887\"],[0.1111111111111111,\"#46039f\"],[0.2222222222222222,\"#7201a8\"],[0.3333333333333333,\"#9c179e\"],[0.4444444444444444,\"#bd3786\"],[0.5555555555555556,\"#d8576b\"],[0.6666666666666666,\"#ed7953\"],[0.7777777777777778,\"#fb9f3a\"],[0.8888888888888888,\"#fdca26\"],[1.0,\"#f0f921\"]],\"sequentialminus\":[[0.0,\"#0d0887\"],[0.1111111111111111,\"#46039f\"],[0.2222222222222222,\"#7201a8\"],[0.3333333333333333,\"#9c179e\"],[0.4444444444444444,\"#bd3786\"],[0.5555555555555556,\"#d8576b\"],[0.6666666666666666,\"#ed7953\"],[0.7777777777777778,\"#fb9f3a\"],[0.8888888888888888,\"#fdca26\"],[1.0,\"#f0f921\"]]},\"colorway\":[\"#636efa\",\"#EF553B\",\"#00cc96\",\"#ab63fa\",\"#FFA15A\",\"#19d3f3\",\"#FF6692\",\"#B6E880\",\"#FF97FF\",\"#FECB52\"],\"font\":{\"color\":\"#2a3f5f\"},\"geo\":{\"bgcolor\":\"white\",\"lakecolor\":\"white\",\"landcolor\":\"#E5ECF6\",\"showlakes\":true,\"showland\":true,\"subunitcolor\":\"white\"},\"hoverlabel\":{\"align\":\"left\"},\"hovermode\":\"closest\",\"mapbox\":{\"style\":\"light\"},\"paper_bgcolor\":\"white\",\"plot_bgcolor\":\"#E5ECF6\",\"polar\":{\"angularaxis\":{\"gridcolor\":\"white\",\"linecolor\":\"white\",\"ticks\":\"\"},\"bgcolor\":\"#E5ECF6\",\"radialaxis\":{\"gridcolor\":\"white\",\"linecolor\":\"white\",\"ticks\":\"\"}},\"scene\":{\"xaxis\":{\"backgroundcolor\":\"#E5ECF6\",\"gridcolor\":\"white\",\"gridwidth\":2,\"linecolor\":\"white\",\"showbackground\":true,\"ticks\":\"\",\"zerolinecolor\":\"white\"},\"yaxis\":{\"backgroundcolor\":\"#E5ECF6\",\"gridcolor\":\"white\",\"gridwidth\":2,\"linecolor\":\"white\",\"showbackground\":true,\"ticks\":\"\",\"zerolinecolor\":\"white\"},\"zaxis\":{\"backgroundcolor\":\"#E5ECF6\",\"gridcolor\":\"white\",\"gridwidth\":2,\"linecolor\":\"white\",\"showbackground\":true,\"ticks\":\"\",\"zerolinecolor\":\"white\"}},\"shapedefaults\":{\"line\":{\"color\":\"#2a3f5f\"}},\"ternary\":{\"aaxis\":{\"gridcolor\":\"white\",\"linecolor\":\"white\",\"ticks\":\"\"},\"baxis\":{\"gridcolor\":\"white\",\"linecolor\":\"white\",\"ticks\":\"\"},\"bgcolor\":\"#E5ECF6\",\"caxis\":{\"gridcolor\":\"white\",\"linecolor\":\"white\",\"ticks\":\"\"}},\"title\":{\"x\":0.05},\"xaxis\":{\"automargin\":true,\"gridcolor\":\"white\",\"linecolor\":\"white\",\"ticks\":\"\",\"title\":{\"standoff\":15},\"zerolinecolor\":\"white\",\"zerolinewidth\":2},\"yaxis\":{\"automargin\":true,\"gridcolor\":\"white\",\"linecolor\":\"white\",\"ticks\":\"\",\"title\":{\"standoff\":15},\"zerolinecolor\":\"white\",\"zerolinewidth\":2}}},\"xaxis\":{\"anchor\":\"y\",\"domain\":[0.0,1.0],\"title\":{\"text\":\"ratings\"}},\"yaxis\":{\"anchor\":\"x\",\"domain\":[0.0,1.0],\"title\":{\"text\":\"count\"}},\"legend\":{\"tracegroupgap\":0},\"title\":{\"text\":\"Ratings of episodes in the training dataset\"},\"barmode\":\"relative\"},                        {\"responsive\": true}                    ).then(function(){\n",
              "                            \n",
              "var gd = document.getElementById('7986e3c9-2124-4160-b16e-fe5b0540d643');\n",
              "var x = new MutationObserver(function (mutations, observer) {{\n",
              "        var display = window.getComputedStyle(gd).display;\n",
              "        if (!display || display === 'none') {{\n",
              "            console.log([gd, 'removed!']);\n",
              "            Plotly.purge(gd);\n",
              "            observer.disconnect();\n",
              "        }}\n",
              "}});\n",
              "\n",
              "// Listen for the removal of the full notebook cells\n",
              "var notebookContainer = gd.closest('#notebook-container');\n",
              "if (notebookContainer) {{\n",
              "    x.observe(notebookContainer, {childList: true});\n",
              "}}\n",
              "\n",
              "// Listen for the clearing of the current output cell\n",
              "var outputEl = gd.closest('.output');\n",
              "if (outputEl) {{\n",
              "    x.observe(outputEl, {childList: true});\n",
              "}}\n",
              "\n",
              "                        })                };                            </script>        </div>\n",
              "</body>\n",
              "</html>"
            ]
          },
          "metadata": {}
        }
      ]
    },
    {
      "cell_type": "code",
      "source": [
        "train[\"date\"] = pd.to_datetime(train[\"date\"])"
      ],
      "metadata": {
        "id": "01NjLSFxINH7"
      },
      "execution_count": 6,
      "outputs": []
    },
    {
      "cell_type": "code",
      "source": [
        "px.line(train,x=\"date\",y=\"ratings\",title=\"Ratings across different dates\")"
      ],
      "metadata": {
        "colab": {
          "base_uri": "https://localhost:8080/",
          "height": 542
        },
        "id": "JJoAFwkGIVOt",
        "outputId": "9f3a923b-f785-4655-a79f-619dea3945c9"
      },
      "execution_count": 7,
      "outputs": [
        {
          "output_type": "display_data",
          "data": {
            "text/html": [
              "<html>\n",
              "<head><meta charset=\"utf-8\" /></head>\n",
              "<body>\n",
              "    <div>            <script src=\"https://cdnjs.cloudflare.com/ajax/libs/mathjax/2.7.5/MathJax.js?config=TeX-AMS-MML_SVG\"></script><script type=\"text/javascript\">if (window.MathJax) {MathJax.Hub.Config({SVG: {font: \"STIX-Web\"}});}</script>                <script type=\"text/javascript\">window.PlotlyConfig = {MathJaxConfig: 'local'};</script>\n",
              "        <script src=\"https://cdn.plot.ly/plotly-2.8.3.min.js\"></script>                <div id=\"88ed6ed9-fc88-46ad-8914-0d3f0edc91fa\" class=\"plotly-graph-div\" style=\"height:525px; width:100%;\"></div>            <script type=\"text/javascript\">                                    window.PLOTLYENV=window.PLOTLYENV || {};                                    if (document.getElementById(\"88ed6ed9-fc88-46ad-8914-0d3f0edc91fa\")) {                    Plotly.newPlot(                        \"88ed6ed9-fc88-46ad-8914-0d3f0edc91fa\",                        [{\"hovertemplate\":\"date=%{x}<br>ratings=%{y}<extra></extra>\",\"legendgroup\":\"\",\"line\":{\"color\":\"#636efa\",\"dash\":\"solid\"},\"marker\":{\"symbol\":\"circle\"},\"mode\":\"lines\",\"name\":\"\",\"orientation\":\"v\",\"showlegend\":false,\"x\":[\"1994-09-22T00:00:00\",\"1994-09-29T00:00:00\",\"1994-10-06T00:00:00\",\"1994-10-13T00:00:00\",\"1994-10-20T00:00:00\",\"1994-10-27T00:00:00\",\"1994-11-03T00:00:00\",\"1994-11-10T00:00:00\",\"1994-11-17T00:00:00\",\"1994-12-15T00:00:00\",\"1995-01-05T00:00:00\",\"1995-01-12T00:00:00\",\"1995-01-19T00:00:00\",\"1995-02-09T00:00:00\",\"1995-02-16T00:00:00\",\"1995-02-23T00:00:00\",\"1995-02-23T00:00:00\",\"1995-03-02T00:00:00\",\"1995-03-09T00:00:00\",\"1995-04-06T00:00:00\",\"1995-04-27T00:00:00\",\"1995-05-04T00:00:00\",\"1995-05-11T00:00:00\",\"1995-05-18T00:00:00\",\"1995-09-21T00:00:00\",\"1995-09-28T00:00:00\",\"1995-10-05T00:00:00\",\"1995-10-12T00:00:00\",\"1995-10-19T00:00:00\",\"1995-11-02T00:00:00\",\"1995-11-09T00:00:00\",\"1995-11-16T00:00:00\",\"1995-12-14T00:00:00\",\"1996-01-04T00:00:00\",\"1996-01-18T00:00:00\",\"1996-01-28T00:00:00\",\"1996-01-28T00:00:00\",\"1996-02-01T00:00:00\",\"1996-02-08T00:00:00\",\"1996-02-15T00:00:00\",\"1996-02-22T00:00:00\",\"1996-03-21T00:00:00\",\"1996-03-28T00:00:00\",\"1996-04-04T00:00:00\",\"1996-04-25T00:00:00\",\"1996-05-02T00:00:00\",\"1996-05-09T00:00:00\",\"1996-05-16T00:00:00\",\"1996-09-19T00:00:00\",\"1996-09-26T00:00:00\",\"1996-10-03T00:00:00\",\"1996-10-10T00:00:00\",\"1996-10-17T00:00:00\",\"1996-10-31T00:00:00\",\"1996-11-07T00:00:00\",\"1996-11-14T00:00:00\",\"1996-11-21T00:00:00\",\"1996-12-12T00:00:00\",\"1997-01-09T00:00:00\",\"1997-01-16T00:00:00\",\"1997-01-30T00:00:00\",\"1997-02-06T00:00:00\",\"1997-02-13T00:00:00\",\"1997-02-20T00:00:00\",\"1997-03-06T00:00:00\",\"1997-03-13T00:00:00\",\"1997-03-27T00:00:00\",\"1997-04-10T00:00:00\",\"1997-04-17T00:00:00\",\"1997-04-24T00:00:00\",\"1997-05-01T00:00:00\",\"1997-05-08T00:00:00\",\"1997-05-15T00:00:00\",\"1997-09-25T00:00:00\",\"1997-10-02T00:00:00\",\"1997-10-09T00:00:00\",\"1997-10-16T00:00:00\",\"1997-10-30T00:00:00\",\"1997-11-06T00:00:00\",\"1997-11-13T00:00:00\",\"1997-11-20T00:00:00\",\"1997-12-11T00:00:00\",\"1997-12-18T00:00:00\",\"1998-01-08T00:00:00\",\"1998-01-15T00:00:00\",\"1998-01-29T00:00:00\",\"1998-02-05T00:00:00\",\"1998-02-26T00:00:00\",\"1998-03-19T00:00:00\",\"1998-03-26T00:00:00\",\"1998-04-02T00:00:00\",\"1998-04-09T00:00:00\",\"1998-04-16T00:00:00\",\"1998-04-23T00:00:00\",\"1998-04-30T00:00:00\",\"1998-05-07T00:00:00\",\"1998-05-07T00:00:00\",\"1998-09-24T00:00:00\",\"1998-10-01T00:00:00\",\"1998-10-08T00:00:00\",\"1998-10-18T00:00:00\",\"1998-10-29T00:00:00\",\"1998-11-05T00:00:00\",\"1998-11-12T00:00:00\",\"1998-11-19T00:00:00\",\"1998-12-10T00:00:00\",\"1998-12-17T00:00:00\",\"1999-01-07T00:00:00\",\"1999-01-21T00:00:00\",\"1999-02-04T00:00:00\",\"1999-02-11T00:00:00\",\"1999-02-18T00:00:00\",\"1999-02-25T00:00:00\",\"1999-03-18T00:00:00\",\"1999-04-08T00:00:00\",\"1999-04-22T00:00:00\",\"1999-04-29T00:00:00\",\"1999-05-06T00:00:00\",\"1999-05-11T00:00:00\",\"1999-05-20T00:00:00\",\"1999-05-20T00:00:00\",\"1999-09-23T00:00:00\",\"1999-09-30T00:00:00\",\"1999-10-07T00:00:00\",\"1999-10-14T00:00:00\",\"1999-10-21T00:00:00\",\"1999-11-04T00:00:00\",\"1999-11-11T00:00:00\",\"1999-11-18T00:00:00\",\"1999-11-25T00:00:00\",\"1999-12-16T00:00:00\",\"2000-01-06T00:00:00\",\"2000-01-13T00:00:00\",\"2000-02-03T00:00:00\",\"2000-02-10T00:00:00\",\"2000-02-17T00:00:00\",\"2000-02-17T00:00:00\",\"2000-02-24T00:00:00\",\"2000-03-09T00:00:00\",\"2000-03-23T00:00:00\",\"2000-04-13T00:00:00\",\"2000-04-27T00:00:00\",\"2000-05-04T00:00:00\",\"2000-05-11T00:00:00\",\"2000-05-18T00:00:00\",\"2000-05-18T00:00:00\",\"2000-10-12T00:00:00\",\"2000-10-12T00:00:00\",\"2000-10-19T00:00:00\",\"2000-10-26T00:00:00\",\"2000-11-02T00:00:00\",\"2000-11-09T00:00:00\",\"2000-11-16T00:00:00\",\"2000-11-23T00:00:00\",\"2000-12-07T00:00:00\",\"2000-12-14T00:00:00\",\"2001-01-04T00:00:00\",\"2001-01-11T00:00:00\",\"2001-02-01T00:00:00\",\"2001-02-08T00:00:00\",\"2001-02-15T00:00:00\",\"2001-02-22T00:00:00\",\"2001-03-15T00:00:00\",\"2001-03-29T00:00:00\",\"2001-04-19T00:00:00\",\"2001-04-26T00:00:00\",\"2001-05-03T00:00:00\",\"2001-05-10T00:00:00\",\"2001-05-17T00:00:00\",\"2001-05-17T00:00:00\",\"2001-09-27T00:00:00\",\"2001-10-04T00:00:00\",\"2001-10-11T00:00:00\",\"2001-10-18T00:00:00\",\"2001-10-25T00:00:00\",\"2001-11-01T00:00:00\",\"2001-11-08T00:00:00\",\"2001-11-15T00:00:00\",\"2001-11-22T00:00:00\",\"2001-12-06T00:00:00\",\"2001-12-13T00:00:00\",\"2002-01-10T00:00:00\",\"2002-01-17T00:00:00\",\"2002-01-31T00:00:00\",\"2002-02-07T00:00:00\",\"2002-02-28T00:00:00\",\"2002-03-07T00:00:00\",\"2002-03-28T00:00:00\",\"2002-04-04T00:00:00\",\"2002-04-25T00:00:00\",\"2002-05-02T00:00:00\",\"2002-05-09T00:00:00\",\"2002-05-16T00:00:00\",\"2002-05-16T00:00:00\",\"2002-09-26T00:00:00\"],\"xaxis\":\"x\",\"y\":[8.3,8.0,8.1,8.1,8.4,8.1,9.0,8.1,8.2,8.0,8.2,8.2,8.6,8.2,8.2,8.1,8.4,8.8,8.1,7.8,7.8,8.3,8.7,8.9,8.5,8.2,8.3,7.9,8.2,8.6,9.0,8.5,7.9,8.0,8.1,8.6,8.7,9.4,8.9,8.6,8.3,8.4,8.5,8.1,8.1,9.0,8.0,8.2,8.4,9.0,8.0,8.0,8.1,9.1,8.3,8.3,9.0,8.1,8.5,8.2,8.2,7.8,8.5,9.1,8.3,8.4,8.1,8.1,8.7,8.2,8.0,8.1,8.8,9.1,8.0,8.5,8.2,8.4,8.5,8.7,9.1,7.9,8.0,8.5,9.5,8.2,8.2,8.5,8.2,8.6,8.2,8.7,8.5,7.1,8.5,8.7,9.2,8.9,9.0,8.8,8.2,8.7,8.0,8.3,9.1,9.1,8.1,9.1,8.2,8.1,9.7,8.5,8.6,8.5,7.9,8.7,8.2,8.4,8.2,8.8,9.1,8.7,8.2,8.1,8.5,8.1,8.5,8.3,8.5,9.2,8.6,8.1,8.0,8.2,8.5,8.5,8.5,9.1,8.3,8.3,7.3,8.6,9.0,8.6,8.7,9.3,8.4,8.3,8.1,8.0,8.0,8.8,8.4,8.1,8.1,8.5,8.6,8.6,8.4,8.6,8.4,8.7,8.3,8.4,8.6,8.3,7.4,8.3,8.9,9.2,8.7,9.1,8.7,9.3,8.0,8.5,7.8,8.7,9.3,8.0,8.0,8.5,8.5,8.2,8.3,8.2,8.0,8.2,7.4,8.2,8.1,8.3,8.8,8.9,8.6],\"yaxis\":\"y\",\"type\":\"scatter\"}],                        {\"template\":{\"data\":{\"bar\":[{\"error_x\":{\"color\":\"#2a3f5f\"},\"error_y\":{\"color\":\"#2a3f5f\"},\"marker\":{\"line\":{\"color\":\"#E5ECF6\",\"width\":0.5},\"pattern\":{\"fillmode\":\"overlay\",\"size\":10,\"solidity\":0.2}},\"type\":\"bar\"}],\"barpolar\":[{\"marker\":{\"line\":{\"color\":\"#E5ECF6\",\"width\":0.5},\"pattern\":{\"fillmode\":\"overlay\",\"size\":10,\"solidity\":0.2}},\"type\":\"barpolar\"}],\"carpet\":[{\"aaxis\":{\"endlinecolor\":\"#2a3f5f\",\"gridcolor\":\"white\",\"linecolor\":\"white\",\"minorgridcolor\":\"white\",\"startlinecolor\":\"#2a3f5f\"},\"baxis\":{\"endlinecolor\":\"#2a3f5f\",\"gridcolor\":\"white\",\"linecolor\":\"white\",\"minorgridcolor\":\"white\",\"startlinecolor\":\"#2a3f5f\"},\"type\":\"carpet\"}],\"choropleth\":[{\"colorbar\":{\"outlinewidth\":0,\"ticks\":\"\"},\"type\":\"choropleth\"}],\"contour\":[{\"colorbar\":{\"outlinewidth\":0,\"ticks\":\"\"},\"colorscale\":[[0.0,\"#0d0887\"],[0.1111111111111111,\"#46039f\"],[0.2222222222222222,\"#7201a8\"],[0.3333333333333333,\"#9c179e\"],[0.4444444444444444,\"#bd3786\"],[0.5555555555555556,\"#d8576b\"],[0.6666666666666666,\"#ed7953\"],[0.7777777777777778,\"#fb9f3a\"],[0.8888888888888888,\"#fdca26\"],[1.0,\"#f0f921\"]],\"type\":\"contour\"}],\"contourcarpet\":[{\"colorbar\":{\"outlinewidth\":0,\"ticks\":\"\"},\"type\":\"contourcarpet\"}],\"heatmap\":[{\"colorbar\":{\"outlinewidth\":0,\"ticks\":\"\"},\"colorscale\":[[0.0,\"#0d0887\"],[0.1111111111111111,\"#46039f\"],[0.2222222222222222,\"#7201a8\"],[0.3333333333333333,\"#9c179e\"],[0.4444444444444444,\"#bd3786\"],[0.5555555555555556,\"#d8576b\"],[0.6666666666666666,\"#ed7953\"],[0.7777777777777778,\"#fb9f3a\"],[0.8888888888888888,\"#fdca26\"],[1.0,\"#f0f921\"]],\"type\":\"heatmap\"}],\"heatmapgl\":[{\"colorbar\":{\"outlinewidth\":0,\"ticks\":\"\"},\"colorscale\":[[0.0,\"#0d0887\"],[0.1111111111111111,\"#46039f\"],[0.2222222222222222,\"#7201a8\"],[0.3333333333333333,\"#9c179e\"],[0.4444444444444444,\"#bd3786\"],[0.5555555555555556,\"#d8576b\"],[0.6666666666666666,\"#ed7953\"],[0.7777777777777778,\"#fb9f3a\"],[0.8888888888888888,\"#fdca26\"],[1.0,\"#f0f921\"]],\"type\":\"heatmapgl\"}],\"histogram\":[{\"marker\":{\"pattern\":{\"fillmode\":\"overlay\",\"size\":10,\"solidity\":0.2}},\"type\":\"histogram\"}],\"histogram2d\":[{\"colorbar\":{\"outlinewidth\":0,\"ticks\":\"\"},\"colorscale\":[[0.0,\"#0d0887\"],[0.1111111111111111,\"#46039f\"],[0.2222222222222222,\"#7201a8\"],[0.3333333333333333,\"#9c179e\"],[0.4444444444444444,\"#bd3786\"],[0.5555555555555556,\"#d8576b\"],[0.6666666666666666,\"#ed7953\"],[0.7777777777777778,\"#fb9f3a\"],[0.8888888888888888,\"#fdca26\"],[1.0,\"#f0f921\"]],\"type\":\"histogram2d\"}],\"histogram2dcontour\":[{\"colorbar\":{\"outlinewidth\":0,\"ticks\":\"\"},\"colorscale\":[[0.0,\"#0d0887\"],[0.1111111111111111,\"#46039f\"],[0.2222222222222222,\"#7201a8\"],[0.3333333333333333,\"#9c179e\"],[0.4444444444444444,\"#bd3786\"],[0.5555555555555556,\"#d8576b\"],[0.6666666666666666,\"#ed7953\"],[0.7777777777777778,\"#fb9f3a\"],[0.8888888888888888,\"#fdca26\"],[1.0,\"#f0f921\"]],\"type\":\"histogram2dcontour\"}],\"mesh3d\":[{\"colorbar\":{\"outlinewidth\":0,\"ticks\":\"\"},\"type\":\"mesh3d\"}],\"parcoords\":[{\"line\":{\"colorbar\":{\"outlinewidth\":0,\"ticks\":\"\"}},\"type\":\"parcoords\"}],\"pie\":[{\"automargin\":true,\"type\":\"pie\"}],\"scatter\":[{\"marker\":{\"colorbar\":{\"outlinewidth\":0,\"ticks\":\"\"}},\"type\":\"scatter\"}],\"scatter3d\":[{\"line\":{\"colorbar\":{\"outlinewidth\":0,\"ticks\":\"\"}},\"marker\":{\"colorbar\":{\"outlinewidth\":0,\"ticks\":\"\"}},\"type\":\"scatter3d\"}],\"scattercarpet\":[{\"marker\":{\"colorbar\":{\"outlinewidth\":0,\"ticks\":\"\"}},\"type\":\"scattercarpet\"}],\"scattergeo\":[{\"marker\":{\"colorbar\":{\"outlinewidth\":0,\"ticks\":\"\"}},\"type\":\"scattergeo\"}],\"scattergl\":[{\"marker\":{\"colorbar\":{\"outlinewidth\":0,\"ticks\":\"\"}},\"type\":\"scattergl\"}],\"scattermapbox\":[{\"marker\":{\"colorbar\":{\"outlinewidth\":0,\"ticks\":\"\"}},\"type\":\"scattermapbox\"}],\"scatterpolar\":[{\"marker\":{\"colorbar\":{\"outlinewidth\":0,\"ticks\":\"\"}},\"type\":\"scatterpolar\"}],\"scatterpolargl\":[{\"marker\":{\"colorbar\":{\"outlinewidth\":0,\"ticks\":\"\"}},\"type\":\"scatterpolargl\"}],\"scatterternary\":[{\"marker\":{\"colorbar\":{\"outlinewidth\":0,\"ticks\":\"\"}},\"type\":\"scatterternary\"}],\"surface\":[{\"colorbar\":{\"outlinewidth\":0,\"ticks\":\"\"},\"colorscale\":[[0.0,\"#0d0887\"],[0.1111111111111111,\"#46039f\"],[0.2222222222222222,\"#7201a8\"],[0.3333333333333333,\"#9c179e\"],[0.4444444444444444,\"#bd3786\"],[0.5555555555555556,\"#d8576b\"],[0.6666666666666666,\"#ed7953\"],[0.7777777777777778,\"#fb9f3a\"],[0.8888888888888888,\"#fdca26\"],[1.0,\"#f0f921\"]],\"type\":\"surface\"}],\"table\":[{\"cells\":{\"fill\":{\"color\":\"#EBF0F8\"},\"line\":{\"color\":\"white\"}},\"header\":{\"fill\":{\"color\":\"#C8D4E3\"},\"line\":{\"color\":\"white\"}},\"type\":\"table\"}]},\"layout\":{\"annotationdefaults\":{\"arrowcolor\":\"#2a3f5f\",\"arrowhead\":0,\"arrowwidth\":1},\"autotypenumbers\":\"strict\",\"coloraxis\":{\"colorbar\":{\"outlinewidth\":0,\"ticks\":\"\"}},\"colorscale\":{\"diverging\":[[0,\"#8e0152\"],[0.1,\"#c51b7d\"],[0.2,\"#de77ae\"],[0.3,\"#f1b6da\"],[0.4,\"#fde0ef\"],[0.5,\"#f7f7f7\"],[0.6,\"#e6f5d0\"],[0.7,\"#b8e186\"],[0.8,\"#7fbc41\"],[0.9,\"#4d9221\"],[1,\"#276419\"]],\"sequential\":[[0.0,\"#0d0887\"],[0.1111111111111111,\"#46039f\"],[0.2222222222222222,\"#7201a8\"],[0.3333333333333333,\"#9c179e\"],[0.4444444444444444,\"#bd3786\"],[0.5555555555555556,\"#d8576b\"],[0.6666666666666666,\"#ed7953\"],[0.7777777777777778,\"#fb9f3a\"],[0.8888888888888888,\"#fdca26\"],[1.0,\"#f0f921\"]],\"sequentialminus\":[[0.0,\"#0d0887\"],[0.1111111111111111,\"#46039f\"],[0.2222222222222222,\"#7201a8\"],[0.3333333333333333,\"#9c179e\"],[0.4444444444444444,\"#bd3786\"],[0.5555555555555556,\"#d8576b\"],[0.6666666666666666,\"#ed7953\"],[0.7777777777777778,\"#fb9f3a\"],[0.8888888888888888,\"#fdca26\"],[1.0,\"#f0f921\"]]},\"colorway\":[\"#636efa\",\"#EF553B\",\"#00cc96\",\"#ab63fa\",\"#FFA15A\",\"#19d3f3\",\"#FF6692\",\"#B6E880\",\"#FF97FF\",\"#FECB52\"],\"font\":{\"color\":\"#2a3f5f\"},\"geo\":{\"bgcolor\":\"white\",\"lakecolor\":\"white\",\"landcolor\":\"#E5ECF6\",\"showlakes\":true,\"showland\":true,\"subunitcolor\":\"white\"},\"hoverlabel\":{\"align\":\"left\"},\"hovermode\":\"closest\",\"mapbox\":{\"style\":\"light\"},\"paper_bgcolor\":\"white\",\"plot_bgcolor\":\"#E5ECF6\",\"polar\":{\"angularaxis\":{\"gridcolor\":\"white\",\"linecolor\":\"white\",\"ticks\":\"\"},\"bgcolor\":\"#E5ECF6\",\"radialaxis\":{\"gridcolor\":\"white\",\"linecolor\":\"white\",\"ticks\":\"\"}},\"scene\":{\"xaxis\":{\"backgroundcolor\":\"#E5ECF6\",\"gridcolor\":\"white\",\"gridwidth\":2,\"linecolor\":\"white\",\"showbackground\":true,\"ticks\":\"\",\"zerolinecolor\":\"white\"},\"yaxis\":{\"backgroundcolor\":\"#E5ECF6\",\"gridcolor\":\"white\",\"gridwidth\":2,\"linecolor\":\"white\",\"showbackground\":true,\"ticks\":\"\",\"zerolinecolor\":\"white\"},\"zaxis\":{\"backgroundcolor\":\"#E5ECF6\",\"gridcolor\":\"white\",\"gridwidth\":2,\"linecolor\":\"white\",\"showbackground\":true,\"ticks\":\"\",\"zerolinecolor\":\"white\"}},\"shapedefaults\":{\"line\":{\"color\":\"#2a3f5f\"}},\"ternary\":{\"aaxis\":{\"gridcolor\":\"white\",\"linecolor\":\"white\",\"ticks\":\"\"},\"baxis\":{\"gridcolor\":\"white\",\"linecolor\":\"white\",\"ticks\":\"\"},\"bgcolor\":\"#E5ECF6\",\"caxis\":{\"gridcolor\":\"white\",\"linecolor\":\"white\",\"ticks\":\"\"}},\"title\":{\"x\":0.05},\"xaxis\":{\"automargin\":true,\"gridcolor\":\"white\",\"linecolor\":\"white\",\"ticks\":\"\",\"title\":{\"standoff\":15},\"zerolinecolor\":\"white\",\"zerolinewidth\":2},\"yaxis\":{\"automargin\":true,\"gridcolor\":\"white\",\"linecolor\":\"white\",\"ticks\":\"\",\"title\":{\"standoff\":15},\"zerolinecolor\":\"white\",\"zerolinewidth\":2}}},\"xaxis\":{\"anchor\":\"y\",\"domain\":[0.0,1.0],\"title\":{\"text\":\"date\"}},\"yaxis\":{\"anchor\":\"x\",\"domain\":[0.0,1.0],\"title\":{\"text\":\"ratings\"}},\"legend\":{\"tracegroupgap\":0},\"title\":{\"text\":\"Ratings across different dates\"}},                        {\"responsive\": true}                    ).then(function(){\n",
              "                            \n",
              "var gd = document.getElementById('88ed6ed9-fc88-46ad-8914-0d3f0edc91fa');\n",
              "var x = new MutationObserver(function (mutations, observer) {{\n",
              "        var display = window.getComputedStyle(gd).display;\n",
              "        if (!display || display === 'none') {{\n",
              "            console.log([gd, 'removed!']);\n",
              "            Plotly.purge(gd);\n",
              "            observer.disconnect();\n",
              "        }}\n",
              "}});\n",
              "\n",
              "// Listen for the removal of the full notebook cells\n",
              "var notebookContainer = gd.closest('#notebook-container');\n",
              "if (notebookContainer) {{\n",
              "    x.observe(notebookContainer, {childList: true});\n",
              "}}\n",
              "\n",
              "// Listen for the clearing of the current output cell\n",
              "var outputEl = gd.closest('.output');\n",
              "if (outputEl) {{\n",
              "    x.observe(outputEl, {childList: true});\n",
              "}}\n",
              "\n",
              "                        })                };                            </script>        </div>\n",
              "</body>\n",
              "</html>"
            ]
          },
          "metadata": {}
        }
      ]
    },
    {
      "cell_type": "markdown",
      "source": [
        "Observations:\n",
        "Friends has an average rating of more than 8. The lowest rating is of a 7, which is not bad at all!\n",
        "\n",
        "I could not find a pattern in the ratings over the years, the show seems to be consistently doing well.\n",
        "\n",
        "Total reviews feature¶"
      ],
      "metadata": {
        "id": "nIWROh6RIg90"
      }
    },
    {
      "cell_type": "code",
      "source": [
        "px.line(train,y=\"total_reviews\",x=\"date\",title=\"Number of reviews for episodes in the training dataset\")"
      ],
      "metadata": {
        "colab": {
          "base_uri": "https://localhost:8080/",
          "height": 542
        },
        "id": "7aFF6IQdIh35",
        "outputId": "39535b34-ddc1-40db-9d15-12a36990cf88"
      },
      "execution_count": 8,
      "outputs": [
        {
          "output_type": "display_data",
          "data": {
            "text/html": [
              "<html>\n",
              "<head><meta charset=\"utf-8\" /></head>\n",
              "<body>\n",
              "    <div>            <script src=\"https://cdnjs.cloudflare.com/ajax/libs/mathjax/2.7.5/MathJax.js?config=TeX-AMS-MML_SVG\"></script><script type=\"text/javascript\">if (window.MathJax) {MathJax.Hub.Config({SVG: {font: \"STIX-Web\"}});}</script>                <script type=\"text/javascript\">window.PlotlyConfig = {MathJaxConfig: 'local'};</script>\n",
              "        <script src=\"https://cdn.plot.ly/plotly-2.8.3.min.js\"></script>                <div id=\"0d7139df-211a-4f86-86dc-88c1e0b09fc6\" class=\"plotly-graph-div\" style=\"height:525px; width:100%;\"></div>            <script type=\"text/javascript\">                                    window.PLOTLYENV=window.PLOTLYENV || {};                                    if (document.getElementById(\"0d7139df-211a-4f86-86dc-88c1e0b09fc6\")) {                    Plotly.newPlot(                        \"0d7139df-211a-4f86-86dc-88c1e0b09fc6\",                        [{\"hovertemplate\":\"date=%{x}<br>total_reviews=%{y}<extra></extra>\",\"legendgroup\":\"\",\"line\":{\"color\":\"#636efa\",\"dash\":\"solid\"},\"marker\":{\"symbol\":\"circle\"},\"mode\":\"lines\",\"name\":\"\",\"orientation\":\"v\",\"showlegend\":false,\"x\":[\"1994-09-22T00:00:00\",\"1994-09-29T00:00:00\",\"1994-10-06T00:00:00\",\"1994-10-13T00:00:00\",\"1994-10-20T00:00:00\",\"1994-10-27T00:00:00\",\"1994-11-03T00:00:00\",\"1994-11-10T00:00:00\",\"1994-11-17T00:00:00\",\"1994-12-15T00:00:00\",\"1995-01-05T00:00:00\",\"1995-01-12T00:00:00\",\"1995-01-19T00:00:00\",\"1995-02-09T00:00:00\",\"1995-02-16T00:00:00\",\"1995-02-23T00:00:00\",\"1995-02-23T00:00:00\",\"1995-03-02T00:00:00\",\"1995-03-09T00:00:00\",\"1995-04-06T00:00:00\",\"1995-04-27T00:00:00\",\"1995-05-04T00:00:00\",\"1995-05-11T00:00:00\",\"1995-05-18T00:00:00\",\"1995-09-21T00:00:00\",\"1995-09-28T00:00:00\",\"1995-10-05T00:00:00\",\"1995-10-12T00:00:00\",\"1995-10-19T00:00:00\",\"1995-11-02T00:00:00\",\"1995-11-09T00:00:00\",\"1995-11-16T00:00:00\",\"1995-12-14T00:00:00\",\"1996-01-04T00:00:00\",\"1996-01-18T00:00:00\",\"1996-01-28T00:00:00\",\"1996-01-28T00:00:00\",\"1996-02-01T00:00:00\",\"1996-02-08T00:00:00\",\"1996-02-15T00:00:00\",\"1996-02-22T00:00:00\",\"1996-03-21T00:00:00\",\"1996-03-28T00:00:00\",\"1996-04-04T00:00:00\",\"1996-04-25T00:00:00\",\"1996-05-02T00:00:00\",\"1996-05-09T00:00:00\",\"1996-05-16T00:00:00\",\"1996-09-19T00:00:00\",\"1996-09-26T00:00:00\",\"1996-10-03T00:00:00\",\"1996-10-10T00:00:00\",\"1996-10-17T00:00:00\",\"1996-10-31T00:00:00\",\"1996-11-07T00:00:00\",\"1996-11-14T00:00:00\",\"1996-11-21T00:00:00\",\"1996-12-12T00:00:00\",\"1997-01-09T00:00:00\",\"1997-01-16T00:00:00\",\"1997-01-30T00:00:00\",\"1997-02-06T00:00:00\",\"1997-02-13T00:00:00\",\"1997-02-20T00:00:00\",\"1997-03-06T00:00:00\",\"1997-03-13T00:00:00\",\"1997-03-27T00:00:00\",\"1997-04-10T00:00:00\",\"1997-04-17T00:00:00\",\"1997-04-24T00:00:00\",\"1997-05-01T00:00:00\",\"1997-05-08T00:00:00\",\"1997-05-15T00:00:00\",\"1997-09-25T00:00:00\",\"1997-10-02T00:00:00\",\"1997-10-09T00:00:00\",\"1997-10-16T00:00:00\",\"1997-10-30T00:00:00\",\"1997-11-06T00:00:00\",\"1997-11-13T00:00:00\",\"1997-11-20T00:00:00\",\"1997-12-11T00:00:00\",\"1997-12-18T00:00:00\",\"1998-01-08T00:00:00\",\"1998-01-15T00:00:00\",\"1998-01-29T00:00:00\",\"1998-02-05T00:00:00\",\"1998-02-26T00:00:00\",\"1998-03-19T00:00:00\",\"1998-03-26T00:00:00\",\"1998-04-02T00:00:00\",\"1998-04-09T00:00:00\",\"1998-04-16T00:00:00\",\"1998-04-23T00:00:00\",\"1998-04-30T00:00:00\",\"1998-05-07T00:00:00\",\"1998-05-07T00:00:00\",\"1998-09-24T00:00:00\",\"1998-10-01T00:00:00\",\"1998-10-08T00:00:00\",\"1998-10-18T00:00:00\",\"1998-10-29T00:00:00\",\"1998-11-05T00:00:00\",\"1998-11-12T00:00:00\",\"1998-11-19T00:00:00\",\"1998-12-10T00:00:00\",\"1998-12-17T00:00:00\",\"1999-01-07T00:00:00\",\"1999-01-21T00:00:00\",\"1999-02-04T00:00:00\",\"1999-02-11T00:00:00\",\"1999-02-18T00:00:00\",\"1999-02-25T00:00:00\",\"1999-03-18T00:00:00\",\"1999-04-08T00:00:00\",\"1999-04-22T00:00:00\",\"1999-04-29T00:00:00\",\"1999-05-06T00:00:00\",\"1999-05-11T00:00:00\",\"1999-05-20T00:00:00\",\"1999-05-20T00:00:00\",\"1999-09-23T00:00:00\",\"1999-09-30T00:00:00\",\"1999-10-07T00:00:00\",\"1999-10-14T00:00:00\",\"1999-10-21T00:00:00\",\"1999-11-04T00:00:00\",\"1999-11-11T00:00:00\",\"1999-11-18T00:00:00\",\"1999-11-25T00:00:00\",\"1999-12-16T00:00:00\",\"2000-01-06T00:00:00\",\"2000-01-13T00:00:00\",\"2000-02-03T00:00:00\",\"2000-02-10T00:00:00\",\"2000-02-17T00:00:00\",\"2000-02-17T00:00:00\",\"2000-02-24T00:00:00\",\"2000-03-09T00:00:00\",\"2000-03-23T00:00:00\",\"2000-04-13T00:00:00\",\"2000-04-27T00:00:00\",\"2000-05-04T00:00:00\",\"2000-05-11T00:00:00\",\"2000-05-18T00:00:00\",\"2000-05-18T00:00:00\",\"2000-10-12T00:00:00\",\"2000-10-12T00:00:00\",\"2000-10-19T00:00:00\",\"2000-10-26T00:00:00\",\"2000-11-02T00:00:00\",\"2000-11-09T00:00:00\",\"2000-11-16T00:00:00\",\"2000-11-23T00:00:00\",\"2000-12-07T00:00:00\",\"2000-12-14T00:00:00\",\"2001-01-04T00:00:00\",\"2001-01-11T00:00:00\",\"2001-02-01T00:00:00\",\"2001-02-08T00:00:00\",\"2001-02-15T00:00:00\",\"2001-02-22T00:00:00\",\"2001-03-15T00:00:00\",\"2001-03-29T00:00:00\",\"2001-04-19T00:00:00\",\"2001-04-26T00:00:00\",\"2001-05-03T00:00:00\",\"2001-05-10T00:00:00\",\"2001-05-17T00:00:00\",\"2001-05-17T00:00:00\",\"2001-09-27T00:00:00\",\"2001-10-04T00:00:00\",\"2001-10-11T00:00:00\",\"2001-10-18T00:00:00\",\"2001-10-25T00:00:00\",\"2001-11-01T00:00:00\",\"2001-11-08T00:00:00\",\"2001-11-15T00:00:00\",\"2001-11-22T00:00:00\",\"2001-12-06T00:00:00\",\"2001-12-13T00:00:00\",\"2002-01-10T00:00:00\",\"2002-01-17T00:00:00\",\"2002-01-31T00:00:00\",\"2002-02-07T00:00:00\",\"2002-02-28T00:00:00\",\"2002-03-07T00:00:00\",\"2002-03-28T00:00:00\",\"2002-04-04T00:00:00\",\"2002-04-25T00:00:00\",\"2002-05-02T00:00:00\",\"2002-05-09T00:00:00\",\"2002-05-16T00:00:00\",\"2002-05-16T00:00:00\",\"2002-09-26T00:00:00\"],\"xaxis\":\"x\",\"y\":[\"-8,583\",\"-6,607\",\"-6,213\",\"-6,035\",\"-6,029\",\"-5,745\",\"-7,311\",\"-5,615\",\"-5,444\",\"-5,472\",\"-5,387\",\"-5,293\",\"-5,645\",\"-5,201\",\"-5,247\",\"-5,167\",\"-5,265\",\"-5,825\",\"-5,040\",\"-5,033\",\"-5,071\",\"-5,035\",\"-5,317\",\"-5,665\",\"-5,160\",\"-4,941\",\"-4,949\",\"-4,802\",\"-4,811\",\"-5,156\",\"-5,872\",\"-4,844\",\"-4,634\",\"-4,875\",\"-4,762\",\"-5,012\",\"-5,188\",\"-7,526\",\"-5,250\",\"-4,657\",\"-4,597\",\"-4,593\",\"-4,715\",\"-4,469\",\"-4,518\",\"-5,619\",\"-4,531\",\"-4,544\",\"-4,693\",\"-6,288\",\"-4,479\",\"-4,311\",\"-4,421\",\"-5,788\",\"-4,364\",\"-4,389\",\"-6,076\",\"-4,394\",\"-4,544\",\"-4,308\",\"-4,318\",\"-4,315\",\"-4,633\",\"-5,659\",\"-4,256\",\"-4,407\",\"-4,239\",\"-4,201\",\"-4,536\",\"-4,279\",\"-4,201\",\"-4,386\",\"-4,868\",\"-5,502\",\"-4,291\",\"-4,361\",\"-4,209\",\"-4,263\",\"-4,368\",\"-4,416\",\"-5,519\",\"-4,112\",\"-4,089\",\"-4,402\",\"-8,117\",\"-4,071\",\"-4,114\",\"-4,300\",\"-4,150\",\"-4,300\",\"-4,074\",\"-4,291\",\"-4,215\",\"-4,546\",\"-4,127\",\"-4,520\",\"-5,632\",\"-4,808\",\"-4,945\",\"-4,510\",\"-4,040\",\"-4,349\",\"-4,030\",\"-4,082\",\"-5,644\",\"-5,208\",\"-4,017\",\"-5,078\",\"-3,998\",\"-4,002\",\"-10,908\",\"-4,216\",\"-4,340\",\"-4,035\",\"-3,916\",\"-4,349\",\"-3,917\",\"-4,062\",\"-3,878\",\"-4,420\",\"-5,012\",\"-4,314\",\"-3,905\",\"-3,851\",\"-4,027\",\"-3,928\",\"-3,974\",\"-3,992\",\"-4,149\",\"-5,631\",\"-4,282\",\"-3,903\",\"-3,834\",\"-3,998\",\"-4,060\",\"-4,186\",\"-4,096\",\"-5,560\",\"-3,889\",\"-3,946\",\"-4,193\",\"-4,144\",\"-4,781\",\"-4,010\",\"-4,144\",\"-5,675\",\"-4,120\",\"-3,829\",\"-3,803\",\"-3,828\",\"-3,785\",\"-4,539\",\"-3,881\",\"-3,779\",\"-3,742\",\"-4,126\",\"-4,001\",\"-4,066\",\"-3,839\",\"-4,065\",\"-3,944\",\"-4,088\",\"-3,776\",\"-3,823\",\"-4,264\",\"-3,925\",\"-3,850\",\"-3,869\",\"-4,337\",\"-4,901\",\"-4,129\",\"-4,798\",\"-3,918\",\"-5,580\",\"-3,740\",\"-4,078\",\"-3,814\",\"-4,267\",\"-6,903\",\"-3,793\",\"-3,640\",\"-3,964\",\"-3,860\",\"-3,660\",\"-3,650\",\"-3,713\",\"-3,657\",\"-3,710\",\"-3,831\",\"-3,703\",\"-3,688\",\"-3,645\",\"-3,981\",\"-4,293\",\"-4,033\"],\"yaxis\":\"y\",\"type\":\"scatter\"}],                        {\"template\":{\"data\":{\"bar\":[{\"error_x\":{\"color\":\"#2a3f5f\"},\"error_y\":{\"color\":\"#2a3f5f\"},\"marker\":{\"line\":{\"color\":\"#E5ECF6\",\"width\":0.5},\"pattern\":{\"fillmode\":\"overlay\",\"size\":10,\"solidity\":0.2}},\"type\":\"bar\"}],\"barpolar\":[{\"marker\":{\"line\":{\"color\":\"#E5ECF6\",\"width\":0.5},\"pattern\":{\"fillmode\":\"overlay\",\"size\":10,\"solidity\":0.2}},\"type\":\"barpolar\"}],\"carpet\":[{\"aaxis\":{\"endlinecolor\":\"#2a3f5f\",\"gridcolor\":\"white\",\"linecolor\":\"white\",\"minorgridcolor\":\"white\",\"startlinecolor\":\"#2a3f5f\"},\"baxis\":{\"endlinecolor\":\"#2a3f5f\",\"gridcolor\":\"white\",\"linecolor\":\"white\",\"minorgridcolor\":\"white\",\"startlinecolor\":\"#2a3f5f\"},\"type\":\"carpet\"}],\"choropleth\":[{\"colorbar\":{\"outlinewidth\":0,\"ticks\":\"\"},\"type\":\"choropleth\"}],\"contour\":[{\"colorbar\":{\"outlinewidth\":0,\"ticks\":\"\"},\"colorscale\":[[0.0,\"#0d0887\"],[0.1111111111111111,\"#46039f\"],[0.2222222222222222,\"#7201a8\"],[0.3333333333333333,\"#9c179e\"],[0.4444444444444444,\"#bd3786\"],[0.5555555555555556,\"#d8576b\"],[0.6666666666666666,\"#ed7953\"],[0.7777777777777778,\"#fb9f3a\"],[0.8888888888888888,\"#fdca26\"],[1.0,\"#f0f921\"]],\"type\":\"contour\"}],\"contourcarpet\":[{\"colorbar\":{\"outlinewidth\":0,\"ticks\":\"\"},\"type\":\"contourcarpet\"}],\"heatmap\":[{\"colorbar\":{\"outlinewidth\":0,\"ticks\":\"\"},\"colorscale\":[[0.0,\"#0d0887\"],[0.1111111111111111,\"#46039f\"],[0.2222222222222222,\"#7201a8\"],[0.3333333333333333,\"#9c179e\"],[0.4444444444444444,\"#bd3786\"],[0.5555555555555556,\"#d8576b\"],[0.6666666666666666,\"#ed7953\"],[0.7777777777777778,\"#fb9f3a\"],[0.8888888888888888,\"#fdca26\"],[1.0,\"#f0f921\"]],\"type\":\"heatmap\"}],\"heatmapgl\":[{\"colorbar\":{\"outlinewidth\":0,\"ticks\":\"\"},\"colorscale\":[[0.0,\"#0d0887\"],[0.1111111111111111,\"#46039f\"],[0.2222222222222222,\"#7201a8\"],[0.3333333333333333,\"#9c179e\"],[0.4444444444444444,\"#bd3786\"],[0.5555555555555556,\"#d8576b\"],[0.6666666666666666,\"#ed7953\"],[0.7777777777777778,\"#fb9f3a\"],[0.8888888888888888,\"#fdca26\"],[1.0,\"#f0f921\"]],\"type\":\"heatmapgl\"}],\"histogram\":[{\"marker\":{\"pattern\":{\"fillmode\":\"overlay\",\"size\":10,\"solidity\":0.2}},\"type\":\"histogram\"}],\"histogram2d\":[{\"colorbar\":{\"outlinewidth\":0,\"ticks\":\"\"},\"colorscale\":[[0.0,\"#0d0887\"],[0.1111111111111111,\"#46039f\"],[0.2222222222222222,\"#7201a8\"],[0.3333333333333333,\"#9c179e\"],[0.4444444444444444,\"#bd3786\"],[0.5555555555555556,\"#d8576b\"],[0.6666666666666666,\"#ed7953\"],[0.7777777777777778,\"#fb9f3a\"],[0.8888888888888888,\"#fdca26\"],[1.0,\"#f0f921\"]],\"type\":\"histogram2d\"}],\"histogram2dcontour\":[{\"colorbar\":{\"outlinewidth\":0,\"ticks\":\"\"},\"colorscale\":[[0.0,\"#0d0887\"],[0.1111111111111111,\"#46039f\"],[0.2222222222222222,\"#7201a8\"],[0.3333333333333333,\"#9c179e\"],[0.4444444444444444,\"#bd3786\"],[0.5555555555555556,\"#d8576b\"],[0.6666666666666666,\"#ed7953\"],[0.7777777777777778,\"#fb9f3a\"],[0.8888888888888888,\"#fdca26\"],[1.0,\"#f0f921\"]],\"type\":\"histogram2dcontour\"}],\"mesh3d\":[{\"colorbar\":{\"outlinewidth\":0,\"ticks\":\"\"},\"type\":\"mesh3d\"}],\"parcoords\":[{\"line\":{\"colorbar\":{\"outlinewidth\":0,\"ticks\":\"\"}},\"type\":\"parcoords\"}],\"pie\":[{\"automargin\":true,\"type\":\"pie\"}],\"scatter\":[{\"marker\":{\"colorbar\":{\"outlinewidth\":0,\"ticks\":\"\"}},\"type\":\"scatter\"}],\"scatter3d\":[{\"line\":{\"colorbar\":{\"outlinewidth\":0,\"ticks\":\"\"}},\"marker\":{\"colorbar\":{\"outlinewidth\":0,\"ticks\":\"\"}},\"type\":\"scatter3d\"}],\"scattercarpet\":[{\"marker\":{\"colorbar\":{\"outlinewidth\":0,\"ticks\":\"\"}},\"type\":\"scattercarpet\"}],\"scattergeo\":[{\"marker\":{\"colorbar\":{\"outlinewidth\":0,\"ticks\":\"\"}},\"type\":\"scattergeo\"}],\"scattergl\":[{\"marker\":{\"colorbar\":{\"outlinewidth\":0,\"ticks\":\"\"}},\"type\":\"scattergl\"}],\"scattermapbox\":[{\"marker\":{\"colorbar\":{\"outlinewidth\":0,\"ticks\":\"\"}},\"type\":\"scattermapbox\"}],\"scatterpolar\":[{\"marker\":{\"colorbar\":{\"outlinewidth\":0,\"ticks\":\"\"}},\"type\":\"scatterpolar\"}],\"scatterpolargl\":[{\"marker\":{\"colorbar\":{\"outlinewidth\":0,\"ticks\":\"\"}},\"type\":\"scatterpolargl\"}],\"scatterternary\":[{\"marker\":{\"colorbar\":{\"outlinewidth\":0,\"ticks\":\"\"}},\"type\":\"scatterternary\"}],\"surface\":[{\"colorbar\":{\"outlinewidth\":0,\"ticks\":\"\"},\"colorscale\":[[0.0,\"#0d0887\"],[0.1111111111111111,\"#46039f\"],[0.2222222222222222,\"#7201a8\"],[0.3333333333333333,\"#9c179e\"],[0.4444444444444444,\"#bd3786\"],[0.5555555555555556,\"#d8576b\"],[0.6666666666666666,\"#ed7953\"],[0.7777777777777778,\"#fb9f3a\"],[0.8888888888888888,\"#fdca26\"],[1.0,\"#f0f921\"]],\"type\":\"surface\"}],\"table\":[{\"cells\":{\"fill\":{\"color\":\"#EBF0F8\"},\"line\":{\"color\":\"white\"}},\"header\":{\"fill\":{\"color\":\"#C8D4E3\"},\"line\":{\"color\":\"white\"}},\"type\":\"table\"}]},\"layout\":{\"annotationdefaults\":{\"arrowcolor\":\"#2a3f5f\",\"arrowhead\":0,\"arrowwidth\":1},\"autotypenumbers\":\"strict\",\"coloraxis\":{\"colorbar\":{\"outlinewidth\":0,\"ticks\":\"\"}},\"colorscale\":{\"diverging\":[[0,\"#8e0152\"],[0.1,\"#c51b7d\"],[0.2,\"#de77ae\"],[0.3,\"#f1b6da\"],[0.4,\"#fde0ef\"],[0.5,\"#f7f7f7\"],[0.6,\"#e6f5d0\"],[0.7,\"#b8e186\"],[0.8,\"#7fbc41\"],[0.9,\"#4d9221\"],[1,\"#276419\"]],\"sequential\":[[0.0,\"#0d0887\"],[0.1111111111111111,\"#46039f\"],[0.2222222222222222,\"#7201a8\"],[0.3333333333333333,\"#9c179e\"],[0.4444444444444444,\"#bd3786\"],[0.5555555555555556,\"#d8576b\"],[0.6666666666666666,\"#ed7953\"],[0.7777777777777778,\"#fb9f3a\"],[0.8888888888888888,\"#fdca26\"],[1.0,\"#f0f921\"]],\"sequentialminus\":[[0.0,\"#0d0887\"],[0.1111111111111111,\"#46039f\"],[0.2222222222222222,\"#7201a8\"],[0.3333333333333333,\"#9c179e\"],[0.4444444444444444,\"#bd3786\"],[0.5555555555555556,\"#d8576b\"],[0.6666666666666666,\"#ed7953\"],[0.7777777777777778,\"#fb9f3a\"],[0.8888888888888888,\"#fdca26\"],[1.0,\"#f0f921\"]]},\"colorway\":[\"#636efa\",\"#EF553B\",\"#00cc96\",\"#ab63fa\",\"#FFA15A\",\"#19d3f3\",\"#FF6692\",\"#B6E880\",\"#FF97FF\",\"#FECB52\"],\"font\":{\"color\":\"#2a3f5f\"},\"geo\":{\"bgcolor\":\"white\",\"lakecolor\":\"white\",\"landcolor\":\"#E5ECF6\",\"showlakes\":true,\"showland\":true,\"subunitcolor\":\"white\"},\"hoverlabel\":{\"align\":\"left\"},\"hovermode\":\"closest\",\"mapbox\":{\"style\":\"light\"},\"paper_bgcolor\":\"white\",\"plot_bgcolor\":\"#E5ECF6\",\"polar\":{\"angularaxis\":{\"gridcolor\":\"white\",\"linecolor\":\"white\",\"ticks\":\"\"},\"bgcolor\":\"#E5ECF6\",\"radialaxis\":{\"gridcolor\":\"white\",\"linecolor\":\"white\",\"ticks\":\"\"}},\"scene\":{\"xaxis\":{\"backgroundcolor\":\"#E5ECF6\",\"gridcolor\":\"white\",\"gridwidth\":2,\"linecolor\":\"white\",\"showbackground\":true,\"ticks\":\"\",\"zerolinecolor\":\"white\"},\"yaxis\":{\"backgroundcolor\":\"#E5ECF6\",\"gridcolor\":\"white\",\"gridwidth\":2,\"linecolor\":\"white\",\"showbackground\":true,\"ticks\":\"\",\"zerolinecolor\":\"white\"},\"zaxis\":{\"backgroundcolor\":\"#E5ECF6\",\"gridcolor\":\"white\",\"gridwidth\":2,\"linecolor\":\"white\",\"showbackground\":true,\"ticks\":\"\",\"zerolinecolor\":\"white\"}},\"shapedefaults\":{\"line\":{\"color\":\"#2a3f5f\"}},\"ternary\":{\"aaxis\":{\"gridcolor\":\"white\",\"linecolor\":\"white\",\"ticks\":\"\"},\"baxis\":{\"gridcolor\":\"white\",\"linecolor\":\"white\",\"ticks\":\"\"},\"bgcolor\":\"#E5ECF6\",\"caxis\":{\"gridcolor\":\"white\",\"linecolor\":\"white\",\"ticks\":\"\"}},\"title\":{\"x\":0.05},\"xaxis\":{\"automargin\":true,\"gridcolor\":\"white\",\"linecolor\":\"white\",\"ticks\":\"\",\"title\":{\"standoff\":15},\"zerolinecolor\":\"white\",\"zerolinewidth\":2},\"yaxis\":{\"automargin\":true,\"gridcolor\":\"white\",\"linecolor\":\"white\",\"ticks\":\"\",\"title\":{\"standoff\":15},\"zerolinecolor\":\"white\",\"zerolinewidth\":2}}},\"xaxis\":{\"anchor\":\"y\",\"domain\":[0.0,1.0],\"title\":{\"text\":\"date\"}},\"yaxis\":{\"anchor\":\"x\",\"domain\":[0.0,1.0],\"title\":{\"text\":\"total_reviews\"}},\"legend\":{\"tracegroupgap\":0},\"title\":{\"text\":\"Number of reviews for episodes in the training dataset\"}},                        {\"responsive\": true}                    ).then(function(){\n",
              "                            \n",
              "var gd = document.getElementById('0d7139df-211a-4f86-86dc-88c1e0b09fc6');\n",
              "var x = new MutationObserver(function (mutations, observer) {{\n",
              "        var display = window.getComputedStyle(gd).display;\n",
              "        if (!display || display === 'none') {{\n",
              "            console.log([gd, 'removed!']);\n",
              "            Plotly.purge(gd);\n",
              "            observer.disconnect();\n",
              "        }}\n",
              "}});\n",
              "\n",
              "// Listen for the removal of the full notebook cells\n",
              "var notebookContainer = gd.closest('#notebook-container');\n",
              "if (notebookContainer) {{\n",
              "    x.observe(notebookContainer, {childList: true});\n",
              "}}\n",
              "\n",
              "// Listen for the clearing of the current output cell\n",
              "var outputEl = gd.closest('.output');\n",
              "if (outputEl) {{\n",
              "    x.observe(outputEl, {childList: true});\n",
              "}}\n",
              "\n",
              "                        })                };                            </script>        </div>\n",
              "</body>\n",
              "</html>"
            ]
          },
          "metadata": {}
        }
      ]
    },
    {
      "cell_type": "code",
      "source": [
        "length = []\n",
        "for i in train[\"plot\"]:\n",
        "    length.append(len(i))\n",
        "train[\"plot_length\"] = length\n",
        "px.bar(train,x=\"title\",y=\"plot_length\",title=\"Plot lengths\")"
      ],
      "metadata": {
        "colab": {
          "base_uri": "https://localhost:8080/",
          "height": 542
        },
        "id": "NIHNcJxVIlAU",
        "outputId": "01f84ce9-dfb2-420c-d1b1-607df5904497"
      },
      "execution_count": 9,
      "outputs": [
        {
          "output_type": "display_data",
          "data": {
            "text/html": [
              "<html>\n",
              "<head><meta charset=\"utf-8\" /></head>\n",
              "<body>\n",
              "    <div>            <script src=\"https://cdnjs.cloudflare.com/ajax/libs/mathjax/2.7.5/MathJax.js?config=TeX-AMS-MML_SVG\"></script><script type=\"text/javascript\">if (window.MathJax) {MathJax.Hub.Config({SVG: {font: \"STIX-Web\"}});}</script>                <script type=\"text/javascript\">window.PlotlyConfig = {MathJaxConfig: 'local'};</script>\n",
              "        <script src=\"https://cdn.plot.ly/plotly-2.8.3.min.js\"></script>                <div id=\"403f5b0b-ff4e-487e-86b2-0587f0b35c3e\" class=\"plotly-graph-div\" style=\"height:525px; width:100%;\"></div>            <script type=\"text/javascript\">                                    window.PLOTLYENV=window.PLOTLYENV || {};                                    if (document.getElementById(\"403f5b0b-ff4e-487e-86b2-0587f0b35c3e\")) {                    Plotly.newPlot(                        \"403f5b0b-ff4e-487e-86b2-0587f0b35c3e\",                        [{\"alignmentgroup\":\"True\",\"hovertemplate\":\"title=%{x}<br>plot_length=%{y}<extra></extra>\",\"legendgroup\":\"\",\"marker\":{\"color\":\"#636efa\",\"pattern\":{\"shape\":\"\"}},\"name\":\"\",\"offsetgroup\":\"\",\"orientation\":\"v\",\"showlegend\":false,\"textposition\":\"auto\",\"x\":[\"The One Where Monica Gets a Roommate\",\"The One with the Sonogram at the End\",\"The One with the Thumb\",\"The One with George Stephanopoulos\",\"The One with the East German Laundry Detergent\",\"The One with the Butt\",\"The One with the Blackout\",\"The One Where Nana Dies Twice\",\"The One Where Underdog Gets Away\",\"The One with the Monkey\",\"The One with Mrs. Bing\",\"The One with the Dozen Lasagnas\",\"The One with the Boobies\",\"The One with the Candy Hearts\",\"The One with the Stoned Guy\",\"The One with Two Parts: Part 1\",\"The One with Two Parts: Part 2\",\"The One with All the Poker\",\"The One Where the Monkey Gets Away\",\"The One with the Evil Orthodontist\",\"The One with the Fake Monica\",\"The One with the Ick Factor\",\"The One with the Birth\",\"The One Where Rachel Finds Out\",\"The One with Ross's New Girlfriend\",\"The One with the Breast Milk\",\"The One Where Heckles Dies\",\"The One with Phoebe's Husband\",\"The One with Five Steaks and an Eggplant\",\"The One with the Baby on the Bus\",\"The One Where Ross Finds Out\",\"The One with the List\",\"The One with Phoebe's Dad\",\"The One with Russ\",\"The One with the Lesbian Wedding\",\"The One After the Superbowl: Part 1\",\"The One After the Superbowl: Part 2\",\"The One with the Prom Video\",\"The One Where Ross and Rachel... You Know\",\"The One Where Joey Moves Out\",\"The One Where Eddie Moves In\",\"The One Where Dr. Ramoray Dies\",\"The One Where Eddie Won't Go\",\"The One Where Old Yeller Dies\",\"The One with the Bullies\",\"The One with the Two Parties\",\"The One with the Chicken Pox\",\"The One with Barry and Mindy's Wedding\",\"The One with the Princess Leia Fantasy\",\"The One Where No One's Ready\",\"The One with the Jam\",\"The One with the Metaphorical Tunnel\",\"The One with Frank Jr.\",\"The One with the Flashback\",\"The One with the Race Car Bed\",\"The One with the Giant Poking Device\",\"The One with the Football\",\"The One Where Rachel Quits\",\"The One Where Chandler Can't Remember Which Sister\",\"The One with All the Jealousy\",\"The One Where Monica and Richard Are Just Friends\",\"The One with Phoebe's Ex-Partner\",\"The One Where Ross and Rachel Take a Break\",\"The One with the Morning After\",\"The One Without the Ski Trip\",\"The One with the Hypnosis Tape\",\"The One with the Tiny T-Shirt\",\"The One with the Dollhouse\",\"The One with the Chick and the Duck\",\"The One with the Screamer\",\"The One with Ross's Thing\",\"The One with the Ultimate Fighting Champion\",\"The One at the Beach\",\"The One with the Jellyfish\",\"The One with the Cat\",\"The One with the 'Cuffs\",\"The One with the Ballroom Dancing\",\"The One with Joey's New Girlfriend\",\"The One with the Dirty Girl\",\"The One Where Chandler Crosses the Line\",\"The One with Chandler in a Box\",\"The One Where They're Going to Party!\",\"The One with the Girl from Poughkeepsie\",\"The One with Phoebe's Uterus\",\"The One with the Embryos\",\"The One with Rachel's Crush\",\"The One with Joey's Dirty Day\",\"The One with All the Rugby\",\"The One with the Fake Party\",\"The One with the Free Porn\",\"The One with Rachel's New Dress\",\"The One with All the Haste\",\"The One with All the Wedding Dresses\",\"The One with the Invitation\",\"The One with the Worst Best Man Ever\",\"The One with Ross's Wedding\",\"The One with Ross's Wedding: Part 2\",\"The One After Ross Says Rachel\",\"The One with All the Kissing\",\"The One Hundredth\",\"The One Where Phoebe Hates PBS\",\"The One with the Kips\",\"The One with the Yeti\",\"The One Where Ross Moves In\",\"The One with All the Thanksgivings\",\"The One with Ross's Sandwich\",\"The One with the Inappropriate Sister\",\"The One with All the Resolutions\",\"The One with Chandler's Work Laugh\",\"The One with Joey's Bag\",\"The One Where Everybody Finds Out\",\"The One with the Girl Who Hits Joey\",\"The One with the Cop\",\"The One with Rachel's Inadvertent Kiss\",\"The One Where Rachel Smokes\",\"The One Where Ross Can't Flirt\",\"The One with the Ride Along\",\"The One with the Ball\",\"The One with Joey's Big Break\",\"The One in Vegas: Part 1\",\"The One in Vegas: Part 2\",\"The One After Vegas\",\"The One Where Ross Hugs Rachel\",\"The One with Ross's Denial\",\"The One Where Joey Loses His Insurance\",\"The One with Joey's Porsche\",\"The One on the Last Night\",\"The One Where Phoebe Runs\",\"The One with Ross' Teeth\",\"The One Where Ross Got High\",\"The One with the Routine\",\"The One with the Apothecary Table\",\"The One with the Joke\",\"The One with Rachel's Sister\",\"The One Where Chandler Can't Cry\",\"The One That Could Have Been\",\"The One That Could Have Been\",\"The One with Unagi\",\"The One Where Ross Dates a Student\",\"The One with Joey's Fridge\",\"The One with Mac and C.H.E.E.S.E.\",\"The One Where Ross Meets Elizabeth's Dad\",\"The One Where Paul's the Man\",\"The One with the Ring\",\"The One with the Proposal\",\"The One with the Proposal\",\"The One with Monica's Thunder\",\"The One with Rachel's Book\",\"The One with Phoebe's Cookies\",\"The One with Rachel's Assistant\",\"The One with the Engagement Picture\",\"The One with the Nap Partners\",\"The One with Ross's Library Book\",\"The One Where Chandler Doesn't Like Dogs\",\"The One with All the Candy\",\"The One with the Holiday Armadillo\",\"The One with All the Cheesecakes\",\"The One Where They're Up All Night\",\"The One Where Rosita Dies\",\"The One Where They All Turn Thirty\",\"The One with Joey's New Brain\",\"The One with the Truth About London\",\"The One with the Cheap Wedding Dress\",\"The One with Joey's Award\",\"The One with Ross and Monica's Cousin\",\"The One with Rachel's Big Kiss\",\"The One with the Vows\",\"The One with Chandler's Dad\",\"The One with Monica and Chandler's Wedding: Part 1\",\"The One with Monica and Chandler's Wedding: Part 2\",\"The One After I Do\",\"The One with the Red Sweater\",\"The One Where Rachel Tells...\",\"The One with the Videotape\",\"The One with Rachel's Date\",\"The One with the Halloween Party\",\"The One with the Stain\",\"The One with the Stripper\",\"The One with the Rumor\",\"The One with Monica's Boots\",\"The One with Ross's Step Forward\",\"The One Where Joey Dates Rachel\",\"The One Where Chandler Takes a Bath\",\"The One with the Secret Closet\",\"The One with the Birthing Video\",\"The One Where Joey Tells Rachel\",\"The One with the Tea Leaves\",\"The One in Massapequa\",\"The One with Joey's Interview\",\"The One with the Baby Shower\",\"The One with the Cooking Class\",\"The One Where Rachel Is Late\",\"The One Where Rachel Has a Baby: Part 1\",\"The One Where Rachel Has a Baby: Part 2\",\"The One Where No One Proposes\"],\"xaxis\":\"x\",\"y\":[98,151,181,197,220,210,141,109,101,172,153,191,177,216,167,161,136,82,76,156,151,163,125,168,178,180,205,189,184,163,230,208,74,164,155,217,173,113,202,229,172,226,232,234,240,185,179,245,192,195,183,237,204,89,132,229,145,240,198,215,186,139,154,224,113,247,193,155,211,207,209,238,155,150,161,238,192,164,247,188,239,238,218,186,232,216,226,180,158,213,172,97,207,159,201,128,239,140,240,205,219,137,178,159,70,179,222,183,196,217,114,235,186,160,236,176,116,209,211,178,162,196,160,178,164,144,152,185,177,232,235,163,194,121,216,141,75,178,142,189,117,199,158,109,180,154,181,212,193,194,194,158,276,205,132,179,157,129,145,99,576,189,576,574,150,134,150,148,227,88,159,120,577,215,566,138,147,576,124,154,187,159,153,88,162,574,575,163,142,283,220,178,296,87,155],\"yaxis\":\"y\",\"type\":\"bar\"}],                        {\"template\":{\"data\":{\"bar\":[{\"error_x\":{\"color\":\"#2a3f5f\"},\"error_y\":{\"color\":\"#2a3f5f\"},\"marker\":{\"line\":{\"color\":\"#E5ECF6\",\"width\":0.5},\"pattern\":{\"fillmode\":\"overlay\",\"size\":10,\"solidity\":0.2}},\"type\":\"bar\"}],\"barpolar\":[{\"marker\":{\"line\":{\"color\":\"#E5ECF6\",\"width\":0.5},\"pattern\":{\"fillmode\":\"overlay\",\"size\":10,\"solidity\":0.2}},\"type\":\"barpolar\"}],\"carpet\":[{\"aaxis\":{\"endlinecolor\":\"#2a3f5f\",\"gridcolor\":\"white\",\"linecolor\":\"white\",\"minorgridcolor\":\"white\",\"startlinecolor\":\"#2a3f5f\"},\"baxis\":{\"endlinecolor\":\"#2a3f5f\",\"gridcolor\":\"white\",\"linecolor\":\"white\",\"minorgridcolor\":\"white\",\"startlinecolor\":\"#2a3f5f\"},\"type\":\"carpet\"}],\"choropleth\":[{\"colorbar\":{\"outlinewidth\":0,\"ticks\":\"\"},\"type\":\"choropleth\"}],\"contour\":[{\"colorbar\":{\"outlinewidth\":0,\"ticks\":\"\"},\"colorscale\":[[0.0,\"#0d0887\"],[0.1111111111111111,\"#46039f\"],[0.2222222222222222,\"#7201a8\"],[0.3333333333333333,\"#9c179e\"],[0.4444444444444444,\"#bd3786\"],[0.5555555555555556,\"#d8576b\"],[0.6666666666666666,\"#ed7953\"],[0.7777777777777778,\"#fb9f3a\"],[0.8888888888888888,\"#fdca26\"],[1.0,\"#f0f921\"]],\"type\":\"contour\"}],\"contourcarpet\":[{\"colorbar\":{\"outlinewidth\":0,\"ticks\":\"\"},\"type\":\"contourcarpet\"}],\"heatmap\":[{\"colorbar\":{\"outlinewidth\":0,\"ticks\":\"\"},\"colorscale\":[[0.0,\"#0d0887\"],[0.1111111111111111,\"#46039f\"],[0.2222222222222222,\"#7201a8\"],[0.3333333333333333,\"#9c179e\"],[0.4444444444444444,\"#bd3786\"],[0.5555555555555556,\"#d8576b\"],[0.6666666666666666,\"#ed7953\"],[0.7777777777777778,\"#fb9f3a\"],[0.8888888888888888,\"#fdca26\"],[1.0,\"#f0f921\"]],\"type\":\"heatmap\"}],\"heatmapgl\":[{\"colorbar\":{\"outlinewidth\":0,\"ticks\":\"\"},\"colorscale\":[[0.0,\"#0d0887\"],[0.1111111111111111,\"#46039f\"],[0.2222222222222222,\"#7201a8\"],[0.3333333333333333,\"#9c179e\"],[0.4444444444444444,\"#bd3786\"],[0.5555555555555556,\"#d8576b\"],[0.6666666666666666,\"#ed7953\"],[0.7777777777777778,\"#fb9f3a\"],[0.8888888888888888,\"#fdca26\"],[1.0,\"#f0f921\"]],\"type\":\"heatmapgl\"}],\"histogram\":[{\"marker\":{\"pattern\":{\"fillmode\":\"overlay\",\"size\":10,\"solidity\":0.2}},\"type\":\"histogram\"}],\"histogram2d\":[{\"colorbar\":{\"outlinewidth\":0,\"ticks\":\"\"},\"colorscale\":[[0.0,\"#0d0887\"],[0.1111111111111111,\"#46039f\"],[0.2222222222222222,\"#7201a8\"],[0.3333333333333333,\"#9c179e\"],[0.4444444444444444,\"#bd3786\"],[0.5555555555555556,\"#d8576b\"],[0.6666666666666666,\"#ed7953\"],[0.7777777777777778,\"#fb9f3a\"],[0.8888888888888888,\"#fdca26\"],[1.0,\"#f0f921\"]],\"type\":\"histogram2d\"}],\"histogram2dcontour\":[{\"colorbar\":{\"outlinewidth\":0,\"ticks\":\"\"},\"colorscale\":[[0.0,\"#0d0887\"],[0.1111111111111111,\"#46039f\"],[0.2222222222222222,\"#7201a8\"],[0.3333333333333333,\"#9c179e\"],[0.4444444444444444,\"#bd3786\"],[0.5555555555555556,\"#d8576b\"],[0.6666666666666666,\"#ed7953\"],[0.7777777777777778,\"#fb9f3a\"],[0.8888888888888888,\"#fdca26\"],[1.0,\"#f0f921\"]],\"type\":\"histogram2dcontour\"}],\"mesh3d\":[{\"colorbar\":{\"outlinewidth\":0,\"ticks\":\"\"},\"type\":\"mesh3d\"}],\"parcoords\":[{\"line\":{\"colorbar\":{\"outlinewidth\":0,\"ticks\":\"\"}},\"type\":\"parcoords\"}],\"pie\":[{\"automargin\":true,\"type\":\"pie\"}],\"scatter\":[{\"marker\":{\"colorbar\":{\"outlinewidth\":0,\"ticks\":\"\"}},\"type\":\"scatter\"}],\"scatter3d\":[{\"line\":{\"colorbar\":{\"outlinewidth\":0,\"ticks\":\"\"}},\"marker\":{\"colorbar\":{\"outlinewidth\":0,\"ticks\":\"\"}},\"type\":\"scatter3d\"}],\"scattercarpet\":[{\"marker\":{\"colorbar\":{\"outlinewidth\":0,\"ticks\":\"\"}},\"type\":\"scattercarpet\"}],\"scattergeo\":[{\"marker\":{\"colorbar\":{\"outlinewidth\":0,\"ticks\":\"\"}},\"type\":\"scattergeo\"}],\"scattergl\":[{\"marker\":{\"colorbar\":{\"outlinewidth\":0,\"ticks\":\"\"}},\"type\":\"scattergl\"}],\"scattermapbox\":[{\"marker\":{\"colorbar\":{\"outlinewidth\":0,\"ticks\":\"\"}},\"type\":\"scattermapbox\"}],\"scatterpolar\":[{\"marker\":{\"colorbar\":{\"outlinewidth\":0,\"ticks\":\"\"}},\"type\":\"scatterpolar\"}],\"scatterpolargl\":[{\"marker\":{\"colorbar\":{\"outlinewidth\":0,\"ticks\":\"\"}},\"type\":\"scatterpolargl\"}],\"scatterternary\":[{\"marker\":{\"colorbar\":{\"outlinewidth\":0,\"ticks\":\"\"}},\"type\":\"scatterternary\"}],\"surface\":[{\"colorbar\":{\"outlinewidth\":0,\"ticks\":\"\"},\"colorscale\":[[0.0,\"#0d0887\"],[0.1111111111111111,\"#46039f\"],[0.2222222222222222,\"#7201a8\"],[0.3333333333333333,\"#9c179e\"],[0.4444444444444444,\"#bd3786\"],[0.5555555555555556,\"#d8576b\"],[0.6666666666666666,\"#ed7953\"],[0.7777777777777778,\"#fb9f3a\"],[0.8888888888888888,\"#fdca26\"],[1.0,\"#f0f921\"]],\"type\":\"surface\"}],\"table\":[{\"cells\":{\"fill\":{\"color\":\"#EBF0F8\"},\"line\":{\"color\":\"white\"}},\"header\":{\"fill\":{\"color\":\"#C8D4E3\"},\"line\":{\"color\":\"white\"}},\"type\":\"table\"}]},\"layout\":{\"annotationdefaults\":{\"arrowcolor\":\"#2a3f5f\",\"arrowhead\":0,\"arrowwidth\":1},\"autotypenumbers\":\"strict\",\"coloraxis\":{\"colorbar\":{\"outlinewidth\":0,\"ticks\":\"\"}},\"colorscale\":{\"diverging\":[[0,\"#8e0152\"],[0.1,\"#c51b7d\"],[0.2,\"#de77ae\"],[0.3,\"#f1b6da\"],[0.4,\"#fde0ef\"],[0.5,\"#f7f7f7\"],[0.6,\"#e6f5d0\"],[0.7,\"#b8e186\"],[0.8,\"#7fbc41\"],[0.9,\"#4d9221\"],[1,\"#276419\"]],\"sequential\":[[0.0,\"#0d0887\"],[0.1111111111111111,\"#46039f\"],[0.2222222222222222,\"#7201a8\"],[0.3333333333333333,\"#9c179e\"],[0.4444444444444444,\"#bd3786\"],[0.5555555555555556,\"#d8576b\"],[0.6666666666666666,\"#ed7953\"],[0.7777777777777778,\"#fb9f3a\"],[0.8888888888888888,\"#fdca26\"],[1.0,\"#f0f921\"]],\"sequentialminus\":[[0.0,\"#0d0887\"],[0.1111111111111111,\"#46039f\"],[0.2222222222222222,\"#7201a8\"],[0.3333333333333333,\"#9c179e\"],[0.4444444444444444,\"#bd3786\"],[0.5555555555555556,\"#d8576b\"],[0.6666666666666666,\"#ed7953\"],[0.7777777777777778,\"#fb9f3a\"],[0.8888888888888888,\"#fdca26\"],[1.0,\"#f0f921\"]]},\"colorway\":[\"#636efa\",\"#EF553B\",\"#00cc96\",\"#ab63fa\",\"#FFA15A\",\"#19d3f3\",\"#FF6692\",\"#B6E880\",\"#FF97FF\",\"#FECB52\"],\"font\":{\"color\":\"#2a3f5f\"},\"geo\":{\"bgcolor\":\"white\",\"lakecolor\":\"white\",\"landcolor\":\"#E5ECF6\",\"showlakes\":true,\"showland\":true,\"subunitcolor\":\"white\"},\"hoverlabel\":{\"align\":\"left\"},\"hovermode\":\"closest\",\"mapbox\":{\"style\":\"light\"},\"paper_bgcolor\":\"white\",\"plot_bgcolor\":\"#E5ECF6\",\"polar\":{\"angularaxis\":{\"gridcolor\":\"white\",\"linecolor\":\"white\",\"ticks\":\"\"},\"bgcolor\":\"#E5ECF6\",\"radialaxis\":{\"gridcolor\":\"white\",\"linecolor\":\"white\",\"ticks\":\"\"}},\"scene\":{\"xaxis\":{\"backgroundcolor\":\"#E5ECF6\",\"gridcolor\":\"white\",\"gridwidth\":2,\"linecolor\":\"white\",\"showbackground\":true,\"ticks\":\"\",\"zerolinecolor\":\"white\"},\"yaxis\":{\"backgroundcolor\":\"#E5ECF6\",\"gridcolor\":\"white\",\"gridwidth\":2,\"linecolor\":\"white\",\"showbackground\":true,\"ticks\":\"\",\"zerolinecolor\":\"white\"},\"zaxis\":{\"backgroundcolor\":\"#E5ECF6\",\"gridcolor\":\"white\",\"gridwidth\":2,\"linecolor\":\"white\",\"showbackground\":true,\"ticks\":\"\",\"zerolinecolor\":\"white\"}},\"shapedefaults\":{\"line\":{\"color\":\"#2a3f5f\"}},\"ternary\":{\"aaxis\":{\"gridcolor\":\"white\",\"linecolor\":\"white\",\"ticks\":\"\"},\"baxis\":{\"gridcolor\":\"white\",\"linecolor\":\"white\",\"ticks\":\"\"},\"bgcolor\":\"#E5ECF6\",\"caxis\":{\"gridcolor\":\"white\",\"linecolor\":\"white\",\"ticks\":\"\"}},\"title\":{\"x\":0.05},\"xaxis\":{\"automargin\":true,\"gridcolor\":\"white\",\"linecolor\":\"white\",\"ticks\":\"\",\"title\":{\"standoff\":15},\"zerolinecolor\":\"white\",\"zerolinewidth\":2},\"yaxis\":{\"automargin\":true,\"gridcolor\":\"white\",\"linecolor\":\"white\",\"ticks\":\"\",\"title\":{\"standoff\":15},\"zerolinecolor\":\"white\",\"zerolinewidth\":2}}},\"xaxis\":{\"anchor\":\"y\",\"domain\":[0.0,1.0],\"title\":{\"text\":\"title\"}},\"yaxis\":{\"anchor\":\"x\",\"domain\":[0.0,1.0],\"title\":{\"text\":\"plot_length\"}},\"legend\":{\"tracegroupgap\":0},\"title\":{\"text\":\"Plot lengths\"},\"barmode\":\"relative\"},                        {\"responsive\": true}                    ).then(function(){\n",
              "                            \n",
              "var gd = document.getElementById('403f5b0b-ff4e-487e-86b2-0587f0b35c3e');\n",
              "var x = new MutationObserver(function (mutations, observer) {{\n",
              "        var display = window.getComputedStyle(gd).display;\n",
              "        if (!display || display === 'none') {{\n",
              "            console.log([gd, 'removed!']);\n",
              "            Plotly.purge(gd);\n",
              "            observer.disconnect();\n",
              "        }}\n",
              "}});\n",
              "\n",
              "// Listen for the removal of the full notebook cells\n",
              "var notebookContainer = gd.closest('#notebook-container');\n",
              "if (notebookContainer) {{\n",
              "    x.observe(notebookContainer, {childList: true});\n",
              "}}\n",
              "\n",
              "// Listen for the clearing of the current output cell\n",
              "var outputEl = gd.closest('.output');\n",
              "if (outputEl) {{\n",
              "    x.observe(outputEl, {childList: true});\n",
              "}}\n",
              "\n",
              "                        })                };                            </script>        </div>\n",
              "</body>\n",
              "</html>"
            ]
          },
          "metadata": {}
        }
      ]
    },
    {
      "cell_type": "markdown",
      "source": [
        "Baseline Model"
      ],
      "metadata": {
        "id": "FGa01C2kIvSc"
      }
    },
    {
      "cell_type": "code",
      "source": [
        "y = train[\"ratings\"]\n",
        "X = train[\"plot\"]"
      ],
      "metadata": {
        "id": "6ubJ4rkmIwa1"
      },
      "execution_count": 10,
      "outputs": []
    },
    {
      "cell_type": "code",
      "source": [
        "#Necessary Imports\n",
        "from sklearn.feature_extraction.text import TfidfVectorizer\n",
        "\n",
        "from sklearn.model_selection import train_test_split, GridSearchCV\n",
        "from sklearn.pipeline import Pipeline\n",
        "from xgboost import XGBClassifier, XGBRegressor\n",
        "param_grid = {\n",
        "    'model__max_depth': [2, 3, 5, 7, 10],\n",
        "    'model__n_estimators': [10, 100, 500],\n",
        "}\n",
        "\n",
        "\n",
        "pipe = Pipeline([('tfidf', TfidfVectorizer()), ('model', XGBRegressor())])\n",
        "grid = GridSearchCV(pipe, param_grid, cv=5, n_jobs=-1, scoring='neg_root_mean_squared_error')\n",
        "grid.fit(X,y)"
      ],
      "metadata": {
        "colab": {
          "base_uri": "https://localhost:8080/"
        },
        "id": "MBwWGUmiI6cY",
        "outputId": "34e2a4ff-2255-41ee-ae8c-9ef02514c961"
      },
      "execution_count": 11,
      "outputs": [
        {
          "output_type": "stream",
          "name": "stdout",
          "text": [
            "[13:54:23] WARNING: /workspace/src/objective/regression_obj.cu:152: reg:linear is now deprecated in favor of reg:squarederror.\n"
          ]
        },
        {
          "output_type": "execute_result",
          "data": {
            "text/plain": [
              "GridSearchCV(cv=5,\n",
              "             estimator=Pipeline(steps=[('tfidf', TfidfVectorizer()),\n",
              "                                       ('model', XGBRegressor())]),\n",
              "             n_jobs=-1,\n",
              "             param_grid={'model__max_depth': [2, 3, 5, 7, 10],\n",
              "                         'model__n_estimators': [10, 100, 500]},\n",
              "             scoring='neg_root_mean_squared_error')"
            ]
          },
          "metadata": {},
          "execution_count": 11
        }
      ]
    },
    {
      "cell_type": "code",
      "source": [
        "import sklearn\n",
        "sorted(sklearn.metrics.SCORERS.keys())"
      ],
      "metadata": {
        "colab": {
          "base_uri": "https://localhost:8080/"
        },
        "id": "_iMJYjSfJFqs",
        "outputId": "354bd6e7-99ac-4630-fa63-43b22a3d8db2"
      },
      "execution_count": 12,
      "outputs": [
        {
          "output_type": "execute_result",
          "data": {
            "text/plain": [
              "['accuracy',\n",
              " 'adjusted_mutual_info_score',\n",
              " 'adjusted_rand_score',\n",
              " 'average_precision',\n",
              " 'balanced_accuracy',\n",
              " 'completeness_score',\n",
              " 'explained_variance',\n",
              " 'f1',\n",
              " 'f1_macro',\n",
              " 'f1_micro',\n",
              " 'f1_samples',\n",
              " 'f1_weighted',\n",
              " 'fowlkes_mallows_score',\n",
              " 'homogeneity_score',\n",
              " 'jaccard',\n",
              " 'jaccard_macro',\n",
              " 'jaccard_micro',\n",
              " 'jaccard_samples',\n",
              " 'jaccard_weighted',\n",
              " 'max_error',\n",
              " 'mutual_info_score',\n",
              " 'neg_brier_score',\n",
              " 'neg_log_loss',\n",
              " 'neg_mean_absolute_error',\n",
              " 'neg_mean_absolute_percentage_error',\n",
              " 'neg_mean_gamma_deviance',\n",
              " 'neg_mean_poisson_deviance',\n",
              " 'neg_mean_squared_error',\n",
              " 'neg_mean_squared_log_error',\n",
              " 'neg_median_absolute_error',\n",
              " 'neg_root_mean_squared_error',\n",
              " 'normalized_mutual_info_score',\n",
              " 'precision',\n",
              " 'precision_macro',\n",
              " 'precision_micro',\n",
              " 'precision_samples',\n",
              " 'precision_weighted',\n",
              " 'r2',\n",
              " 'rand_score',\n",
              " 'recall',\n",
              " 'recall_macro',\n",
              " 'recall_micro',\n",
              " 'recall_samples',\n",
              " 'recall_weighted',\n",
              " 'roc_auc',\n",
              " 'roc_auc_ovo',\n",
              " 'roc_auc_ovo_weighted',\n",
              " 'roc_auc_ovr',\n",
              " 'roc_auc_ovr_weighted',\n",
              " 'top_k_accuracy',\n",
              " 'v_measure_score']"
            ]
          },
          "metadata": {},
          "execution_count": 12
        }
      ]
    },
    {
      "cell_type": "code",
      "source": [
        "#Predicting\n",
        "test = pd.read_csv(\"/friends_test_file.csv\")"
      ],
      "metadata": {
        "id": "Kz-b5BPNJIP8"
      },
      "execution_count": 14,
      "outputs": []
    },
    {
      "cell_type": "code",
      "source": [
        "preds = grid.predict(test[\"plot\"])"
      ],
      "metadata": {
        "id": "L15y1slEJVjW"
      },
      "execution_count": 15,
      "outputs": []
    },
    {
      "cell_type": "code",
      "source": [
        "len(preds)"
      ],
      "metadata": {
        "colab": {
          "base_uri": "https://localhost:8080/"
        },
        "id": "Idlf7570JZdD",
        "outputId": "50eb8edd-09b9-44a0-f98c-59ce24488fe5"
      },
      "execution_count": 16,
      "outputs": [
        {
          "output_type": "execute_result",
          "data": {
            "text/plain": [
              "35"
            ]
          },
          "metadata": {},
          "execution_count": 16
        }
      ]
    },
    {
      "cell_type": "code",
      "source": [
        "test.shape"
      ],
      "metadata": {
        "colab": {
          "base_uri": "https://localhost:8080/"
        },
        "id": "4fT-rJmPJdBy",
        "outputId": "f88a2114-2d30-42c1-9556-ce20ad077ad5"
      },
      "execution_count": 17,
      "outputs": [
        {
          "output_type": "execute_result",
          "data": {
            "text/plain": [
              "(35, 7)"
            ]
          },
          "metadata": {},
          "execution_count": 17
        }
      ]
    },
    {
      "cell_type": "code",
      "source": [
        "preds"
      ],
      "metadata": {
        "colab": {
          "base_uri": "https://localhost:8080/"
        },
        "id": "b1MiPkEcJhQb",
        "outputId": "25769efb-1fd1-4a28-820f-8ed5604c4ad3"
      },
      "execution_count": 18,
      "outputs": [
        {
          "output_type": "execute_result",
          "data": {
            "text/plain": [
              "array([8.634297, 8.320085, 8.351128, 8.442602, 8.516853, 8.267387,\n",
              "       8.468478, 8.579031, 8.456208, 8.262337, 8.248636, 8.648726,\n",
              "       8.244775, 8.354373, 8.327822, 8.213826, 8.374323, 8.825821,\n",
              "       8.674115, 8.530194, 8.535954, 8.311661, 8.008631, 8.713164,\n",
              "       8.541395, 8.664354, 8.409912, 8.857148, 8.43597 , 8.697681,\n",
              "       8.443368, 8.137261, 8.58795 , 8.542828, 8.354012], dtype=float32)"
            ]
          },
          "metadata": {},
          "execution_count": 18
        }
      ]
    },
    {
      "cell_type": "code",
      "source": [
        "test = test.reset_index()"
      ],
      "metadata": {
        "id": "XQ0LhyFrJjmM"
      },
      "execution_count": 19,
      "outputs": []
    },
    {
      "cell_type": "code",
      "source": [
        "ID =[]\n",
        "for i in range(1,36):\n",
        "    ID.append(i)"
      ],
      "metadata": {
        "id": "r43MmafvJlad"
      },
      "execution_count": 20,
      "outputs": []
    },
    {
      "cell_type": "code",
      "source": [
        "predictions = pd.DataFrame()\n",
        "predictions[\"ID\"]=ID\n",
        "predictions[\"ratings\"] =preds\n",
        "predictions.to_csv(\"submission.csv\",index=False)\n",
        "predictions"
      ],
      "metadata": {
        "colab": {
          "base_uri": "https://localhost:8080/",
          "height": 1000
        },
        "id": "g-ntRHrcJnUk",
        "outputId": "514fad47-ff2f-4d15-8de4-0e5ab9480cae"
      },
      "execution_count": 21,
      "outputs": [
        {
          "output_type": "execute_result",
          "data": {
            "text/plain": [
              "    ID   ratings\n",
              "0    1  8.634297\n",
              "1    2  8.320085\n",
              "2    3  8.351128\n",
              "3    4  8.442602\n",
              "4    5  8.516853\n",
              "5    6  8.267387\n",
              "6    7  8.468478\n",
              "7    8  8.579031\n",
              "8    9  8.456208\n",
              "9   10  8.262337\n",
              "10  11  8.248636\n",
              "11  12  8.648726\n",
              "12  13  8.244775\n",
              "13  14  8.354373\n",
              "14  15  8.327822\n",
              "15  16  8.213826\n",
              "16  17  8.374323\n",
              "17  18  8.825821\n",
              "18  19  8.674115\n",
              "19  20  8.530194\n",
              "20  21  8.535954\n",
              "21  22  8.311661\n",
              "22  23  8.008631\n",
              "23  24  8.713164\n",
              "24  25  8.541395\n",
              "25  26  8.664354\n",
              "26  27  8.409912\n",
              "27  28  8.857148\n",
              "28  29  8.435970\n",
              "29  30  8.697681\n",
              "30  31  8.443368\n",
              "31  32  8.137261\n",
              "32  33  8.587950\n",
              "33  34  8.542828\n",
              "34  35  8.354012"
            ],
            "text/html": [
              "\n",
              "  <div id=\"df-9801b2e8-bc2f-494a-aabc-1506938419ec\">\n",
              "    <div class=\"colab-df-container\">\n",
              "      <div>\n",
              "<style scoped>\n",
              "    .dataframe tbody tr th:only-of-type {\n",
              "        vertical-align: middle;\n",
              "    }\n",
              "\n",
              "    .dataframe tbody tr th {\n",
              "        vertical-align: top;\n",
              "    }\n",
              "\n",
              "    .dataframe thead th {\n",
              "        text-align: right;\n",
              "    }\n",
              "</style>\n",
              "<table border=\"1\" class=\"dataframe\">\n",
              "  <thead>\n",
              "    <tr style=\"text-align: right;\">\n",
              "      <th></th>\n",
              "      <th>ID</th>\n",
              "      <th>ratings</th>\n",
              "    </tr>\n",
              "  </thead>\n",
              "  <tbody>\n",
              "    <tr>\n",
              "      <th>0</th>\n",
              "      <td>1</td>\n",
              "      <td>8.634297</td>\n",
              "    </tr>\n",
              "    <tr>\n",
              "      <th>1</th>\n",
              "      <td>2</td>\n",
              "      <td>8.320085</td>\n",
              "    </tr>\n",
              "    <tr>\n",
              "      <th>2</th>\n",
              "      <td>3</td>\n",
              "      <td>8.351128</td>\n",
              "    </tr>\n",
              "    <tr>\n",
              "      <th>3</th>\n",
              "      <td>4</td>\n",
              "      <td>8.442602</td>\n",
              "    </tr>\n",
              "    <tr>\n",
              "      <th>4</th>\n",
              "      <td>5</td>\n",
              "      <td>8.516853</td>\n",
              "    </tr>\n",
              "    <tr>\n",
              "      <th>5</th>\n",
              "      <td>6</td>\n",
              "      <td>8.267387</td>\n",
              "    </tr>\n",
              "    <tr>\n",
              "      <th>6</th>\n",
              "      <td>7</td>\n",
              "      <td>8.468478</td>\n",
              "    </tr>\n",
              "    <tr>\n",
              "      <th>7</th>\n",
              "      <td>8</td>\n",
              "      <td>8.579031</td>\n",
              "    </tr>\n",
              "    <tr>\n",
              "      <th>8</th>\n",
              "      <td>9</td>\n",
              "      <td>8.456208</td>\n",
              "    </tr>\n",
              "    <tr>\n",
              "      <th>9</th>\n",
              "      <td>10</td>\n",
              "      <td>8.262337</td>\n",
              "    </tr>\n",
              "    <tr>\n",
              "      <th>10</th>\n",
              "      <td>11</td>\n",
              "      <td>8.248636</td>\n",
              "    </tr>\n",
              "    <tr>\n",
              "      <th>11</th>\n",
              "      <td>12</td>\n",
              "      <td>8.648726</td>\n",
              "    </tr>\n",
              "    <tr>\n",
              "      <th>12</th>\n",
              "      <td>13</td>\n",
              "      <td>8.244775</td>\n",
              "    </tr>\n",
              "    <tr>\n",
              "      <th>13</th>\n",
              "      <td>14</td>\n",
              "      <td>8.354373</td>\n",
              "    </tr>\n",
              "    <tr>\n",
              "      <th>14</th>\n",
              "      <td>15</td>\n",
              "      <td>8.327822</td>\n",
              "    </tr>\n",
              "    <tr>\n",
              "      <th>15</th>\n",
              "      <td>16</td>\n",
              "      <td>8.213826</td>\n",
              "    </tr>\n",
              "    <tr>\n",
              "      <th>16</th>\n",
              "      <td>17</td>\n",
              "      <td>8.374323</td>\n",
              "    </tr>\n",
              "    <tr>\n",
              "      <th>17</th>\n",
              "      <td>18</td>\n",
              "      <td>8.825821</td>\n",
              "    </tr>\n",
              "    <tr>\n",
              "      <th>18</th>\n",
              "      <td>19</td>\n",
              "      <td>8.674115</td>\n",
              "    </tr>\n",
              "    <tr>\n",
              "      <th>19</th>\n",
              "      <td>20</td>\n",
              "      <td>8.530194</td>\n",
              "    </tr>\n",
              "    <tr>\n",
              "      <th>20</th>\n",
              "      <td>21</td>\n",
              "      <td>8.535954</td>\n",
              "    </tr>\n",
              "    <tr>\n",
              "      <th>21</th>\n",
              "      <td>22</td>\n",
              "      <td>8.311661</td>\n",
              "    </tr>\n",
              "    <tr>\n",
              "      <th>22</th>\n",
              "      <td>23</td>\n",
              "      <td>8.008631</td>\n",
              "    </tr>\n",
              "    <tr>\n",
              "      <th>23</th>\n",
              "      <td>24</td>\n",
              "      <td>8.713164</td>\n",
              "    </tr>\n",
              "    <tr>\n",
              "      <th>24</th>\n",
              "      <td>25</td>\n",
              "      <td>8.541395</td>\n",
              "    </tr>\n",
              "    <tr>\n",
              "      <th>25</th>\n",
              "      <td>26</td>\n",
              "      <td>8.664354</td>\n",
              "    </tr>\n",
              "    <tr>\n",
              "      <th>26</th>\n",
              "      <td>27</td>\n",
              "      <td>8.409912</td>\n",
              "    </tr>\n",
              "    <tr>\n",
              "      <th>27</th>\n",
              "      <td>28</td>\n",
              "      <td>8.857148</td>\n",
              "    </tr>\n",
              "    <tr>\n",
              "      <th>28</th>\n",
              "      <td>29</td>\n",
              "      <td>8.435970</td>\n",
              "    </tr>\n",
              "    <tr>\n",
              "      <th>29</th>\n",
              "      <td>30</td>\n",
              "      <td>8.697681</td>\n",
              "    </tr>\n",
              "    <tr>\n",
              "      <th>30</th>\n",
              "      <td>31</td>\n",
              "      <td>8.443368</td>\n",
              "    </tr>\n",
              "    <tr>\n",
              "      <th>31</th>\n",
              "      <td>32</td>\n",
              "      <td>8.137261</td>\n",
              "    </tr>\n",
              "    <tr>\n",
              "      <th>32</th>\n",
              "      <td>33</td>\n",
              "      <td>8.587950</td>\n",
              "    </tr>\n",
              "    <tr>\n",
              "      <th>33</th>\n",
              "      <td>34</td>\n",
              "      <td>8.542828</td>\n",
              "    </tr>\n",
              "    <tr>\n",
              "      <th>34</th>\n",
              "      <td>35</td>\n",
              "      <td>8.354012</td>\n",
              "    </tr>\n",
              "  </tbody>\n",
              "</table>\n",
              "</div>\n",
              "      <button class=\"colab-df-convert\" onclick=\"convertToInteractive('df-9801b2e8-bc2f-494a-aabc-1506938419ec')\"\n",
              "              title=\"Convert this dataframe to an interactive table.\"\n",
              "              style=\"display:none;\">\n",
              "        \n",
              "  <svg xmlns=\"http://www.w3.org/2000/svg\" height=\"24px\"viewBox=\"0 0 24 24\"\n",
              "       width=\"24px\">\n",
              "    <path d=\"M0 0h24v24H0V0z\" fill=\"none\"/>\n",
              "    <path d=\"M18.56 5.44l.94 2.06.94-2.06 2.06-.94-2.06-.94-.94-2.06-.94 2.06-2.06.94zm-11 1L8.5 8.5l.94-2.06 2.06-.94-2.06-.94L8.5 2.5l-.94 2.06-2.06.94zm10 10l.94 2.06.94-2.06 2.06-.94-2.06-.94-.94-2.06-.94 2.06-2.06.94z\"/><path d=\"M17.41 7.96l-1.37-1.37c-.4-.4-.92-.59-1.43-.59-.52 0-1.04.2-1.43.59L10.3 9.45l-7.72 7.72c-.78.78-.78 2.05 0 2.83L4 21.41c.39.39.9.59 1.41.59.51 0 1.02-.2 1.41-.59l7.78-7.78 2.81-2.81c.8-.78.8-2.07 0-2.86zM5.41 20L4 18.59l7.72-7.72 1.47 1.35L5.41 20z\"/>\n",
              "  </svg>\n",
              "      </button>\n",
              "      \n",
              "  <style>\n",
              "    .colab-df-container {\n",
              "      display:flex;\n",
              "      flex-wrap:wrap;\n",
              "      gap: 12px;\n",
              "    }\n",
              "\n",
              "    .colab-df-convert {\n",
              "      background-color: #E8F0FE;\n",
              "      border: none;\n",
              "      border-radius: 50%;\n",
              "      cursor: pointer;\n",
              "      display: none;\n",
              "      fill: #1967D2;\n",
              "      height: 32px;\n",
              "      padding: 0 0 0 0;\n",
              "      width: 32px;\n",
              "    }\n",
              "\n",
              "    .colab-df-convert:hover {\n",
              "      background-color: #E2EBFA;\n",
              "      box-shadow: 0px 1px 2px rgba(60, 64, 67, 0.3), 0px 1px 3px 1px rgba(60, 64, 67, 0.15);\n",
              "      fill: #174EA6;\n",
              "    }\n",
              "\n",
              "    [theme=dark] .colab-df-convert {\n",
              "      background-color: #3B4455;\n",
              "      fill: #D2E3FC;\n",
              "    }\n",
              "\n",
              "    [theme=dark] .colab-df-convert:hover {\n",
              "      background-color: #434B5C;\n",
              "      box-shadow: 0px 1px 3px 1px rgba(0, 0, 0, 0.15);\n",
              "      filter: drop-shadow(0px 1px 2px rgba(0, 0, 0, 0.3));\n",
              "      fill: #FFFFFF;\n",
              "    }\n",
              "  </style>\n",
              "\n",
              "      <script>\n",
              "        const buttonEl =\n",
              "          document.querySelector('#df-9801b2e8-bc2f-494a-aabc-1506938419ec button.colab-df-convert');\n",
              "        buttonEl.style.display =\n",
              "          google.colab.kernel.accessAllowed ? 'block' : 'none';\n",
              "\n",
              "        async function convertToInteractive(key) {\n",
              "          const element = document.querySelector('#df-9801b2e8-bc2f-494a-aabc-1506938419ec');\n",
              "          const dataTable =\n",
              "            await google.colab.kernel.invokeFunction('convertToInteractive',\n",
              "                                                     [key], {});\n",
              "          if (!dataTable) return;\n",
              "\n",
              "          const docLinkHtml = 'Like what you see? Visit the ' +\n",
              "            '<a target=\"_blank\" href=https://colab.research.google.com/notebooks/data_table.ipynb>data table notebook</a>'\n",
              "            + ' to learn more about interactive tables.';\n",
              "          element.innerHTML = '';\n",
              "          dataTable['output_type'] = 'display_data';\n",
              "          await google.colab.output.renderOutput(dataTable, element);\n",
              "          const docLink = document.createElement('div');\n",
              "          docLink.innerHTML = docLinkHtml;\n",
              "          element.appendChild(docLink);\n",
              "        }\n",
              "      </script>\n",
              "    </div>\n",
              "  </div>\n",
              "  "
            ]
          },
          "metadata": {},
          "execution_count": 21
        }
      ]
    }
  ]
}