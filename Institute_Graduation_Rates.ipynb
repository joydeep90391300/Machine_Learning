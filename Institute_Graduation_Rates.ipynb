{
  "nbformat": 4,
  "nbformat_minor": 0,
  "metadata": {
    "colab": {
      "name": "Institute Graduation Rates.ipynb",
      "provenance": [],
      "authorship_tag": "ABX9TyMY2MaUs6MoCwmZY4l6t1NA",
      "include_colab_link": true
    },
    "kernelspec": {
      "name": "python3",
      "display_name": "Python 3"
    },
    "language_info": {
      "name": "python"
    }
  },
  "cells": [
    {
      "cell_type": "markdown",
      "metadata": {
        "id": "view-in-github",
        "colab_type": "text"
      },
      "source": [
        "<a href=\"https://colab.research.google.com/github/ahimsaj/ML-Training/blob/main/Institute_Graduation_Rates.ipynb\" target=\"_parent\"><img src=\"https://colab.research.google.com/assets/colab-badge.svg\" alt=\"Open In Colab\"/></a>"
      ]
    },
    {
      "cell_type": "code",
      "execution_count": 2,
      "metadata": {
        "id": "c4K1wYx8cY_I"
      },
      "outputs": [],
      "source": [
        "import numpy as np\n",
        "import pandas as pd\n",
        "import xgboost as xg\n",
        "import warnings\n",
        "import os"
      ]
    },
    {
      "cell_type": "code",
      "source": [
        "# To calculate error for Regressors' Performance\n",
        "from sklearn.metrics import mean_squared_error\n",
        "from sklearn.metrics import r2_score"
      ],
      "metadata": {
        "id": "vw-Q4tDYconl"
      },
      "execution_count": 3,
      "outputs": []
    },
    {
      "cell_type": "code",
      "source": [
        "warnings.filterwarnings(\"ignore\",category=PendingDeprecationWarning)\n"
      ],
      "metadata": {
        "id": "fBY-qMw_cvUx"
      },
      "execution_count": 4,
      "outputs": []
    },
    {
      "cell_type": "code",
      "source": [
        "# To measure performance of each Regressor and overall program.\n",
        "import time\n",
        "start = time.time()\n",
        "# Data Pre-processing: Missing values/Null handling and Scaling\n",
        "IGR_DS = pd.read_csv('/content/IGR_Prediction_DS.csv',sep=',')\n",
        "print(IGR_DS.shape)"
      ],
      "metadata": {
        "colab": {
          "base_uri": "https://localhost:8080/"
        },
        "id": "6kyWOHyqcyXU",
        "outputId": "c0a79155-4058-441a-b3e3-4338519b3647"
      },
      "execution_count": 7,
      "outputs": [
        {
          "output_type": "stream",
          "name": "stdout",
          "text": [
            "(5416, 143)\n"
          ]
        }
      ]
    },
    {
      "cell_type": "code",
      "source": [
        "# Calculating total null values in every column\n",
        "print(IGR_DS.isnull().sum())"
      ],
      "metadata": {
        "colab": {
          "base_uri": "https://localhost:8080/"
        },
        "id": "8Epe0mNldLNv",
        "outputId": "09a99792-73f0-4b4c-dbcd-98de6a230413"
      },
      "execution_count": 8,
      "outputs": [
        {
          "output_type": "stream",
          "name": "stdout",
          "text": [
            "chg1ay3       15\n",
            "chg4ay3        1\n",
            "chg5ay3      529\n",
            "chg6ay3      514\n",
            "chg7ay3     1355\n",
            "            ... \n",
            "PctEnrAN    3071\n",
            "PctEnrUn    3071\n",
            "PctEnrNr    3071\n",
            "DVEF06      3184\n",
            "GBA4RTT        1\n",
            "Length: 143, dtype: int64\n"
          ]
        }
      ]
    },
    {
      "cell_type": "code",
      "source": [
        "# To handle skewness of data\n",
        "IGR_DS=np.sqrt(IGR_DS)\n",
        "IGR_DS=IGR_DS.fillna(IGR_DS.mean())\n",
        "y = IGR_DS.iloc[:,-1]\n",
        "y = y.astype('int')\n",
        "X = IGR_DS.iloc[:,:-1]\n",
        "X = X.astype(int)\n",
        "\n",
        "from sklearn.preprocessing import StandardScaler\n",
        "sc_X = StandardScaler()\n",
        "sc_y = StandardScaler()\n",
        "X = sc_X.fit_transform(X)\n",
        "y=np.array(y)\n",
        "y=y.reshape(-1,1)\n",
        "y = sc_y.fit_transform(y)\n",
        "\n",
        "print(type(X))\n",
        "print(type(y))\n",
        "y = pd.DataFrame(data=y)\n",
        "X = pd.DataFrame(data=X)\n",
        "y=y.values.ravel()"
      ],
      "metadata": {
        "colab": {
          "base_uri": "https://localhost:8080/"
        },
        "id": "fosfwDnmdMjy",
        "outputId": "f20e38df-8a15-41ce-92cf-80d080f7f2b2"
      },
      "execution_count": 9,
      "outputs": [
        {
          "output_type": "stream",
          "name": "stdout",
          "text": [
            "<class 'numpy.ndarray'>\n",
            "<class 'numpy.ndarray'>\n"
          ]
        }
      ]
    },
    {
      "cell_type": "code",
      "source": [
        "# Splitting data into training and testing data sets\n",
        "from sklearn.model_selection import train_test_split\n",
        "X_train, X_test, Y_train, Y_test = train_test_split(X, y, test_size = 0.2, random_state=5)\n",
        "# Printing the shapes\n",
        "print(X_train.shape)\n",
        "print(X_test.shape)\n",
        "print(Y_train.shape)\n",
        "print(Y_test.shape)\n"
      ],
      "metadata": {
        "colab": {
          "base_uri": "https://localhost:8080/"
        },
        "id": "2SEsXMh6dUua",
        "outputId": "706ca39a-b316-470f-dfd0-6c12dc60d485"
      },
      "execution_count": 10,
      "outputs": [
        {
          "output_type": "stream",
          "name": "stdout",
          "text": [
            "(4332, 142)\n",
            "(1084, 142)\n",
            "(4332,)\n",
            "(1084,)\n"
          ]
        }
      ]
    },
    {
      "cell_type": "markdown",
      "source": [
        " Decision Tree Regression"
      ],
      "metadata": {
        "id": "5AHExM0DeJjg"
      }
    },
    {
      "cell_type": "code",
      "source": [
        "# Create a regressor object for decision tree regression\n",
        "from sklearn.tree import DecisionTreeRegressor\n",
        "regressor = DecisionTreeRegressor(random_state = 0)\n",
        "\n",
        "# fit the regressor with X and Y data\n",
        "regressor.fit(X_train,Y_train)\n",
        "\n",
        "# model evaluation for training set\n",
        "y_train_predict = regressor.predict(X_train)\n",
        "mse=mean_squared_error(Y_train**2, y_train_predict**2)\n",
        "rmse = (np.sqrt(mean_squared_error(Y_train**2, y_train_predict**2)))\n",
        "r2 = r2_score(Y_train**2, y_train_predict**2)\n",
        "adjusted_r_squared = 1 - (1-r2)*(len(Y_train)-1)/(len(Y_train)-X_train.shape[1]-1)\n",
        "\n",
        "print(\"The model performance for training set-Decision tree Regression\")\n",
        "print(\"--------------------------------------\")\n",
        "print('MSE is {}'.format(mse))\n",
        "print('RMSE is {}'.format(rmse))\n",
        "print('R2 score is {}'.format(r2))\n",
        "print('Adjusted R2 score is {}'.format(adjusted_r_squared))\n",
        "print(\"\\n\")\n",
        "\n",
        "# model evaluation for testing set\n",
        "y_test_predict = regressor.predict(X_test)\n",
        "mse=mean_squared_error(Y_test**2, y_test_predict**2)\n",
        "rmse = (np.sqrt(mean_squared_error(Y_test**2, y_test_predict**2)))\n",
        "r2 = r2_score(Y_test**2, y_test_predict**2)\n",
        "adjusted_r_squared = 1 - (1-r2)*(len(Y_test)-1)/(len(Y_test)-X_test.shape[1]-1)\n",
        "\n",
        "print(\"The model performance for testing set- Decision tree regression\")\n",
        "print(\"--------------------------------------\")\n",
        "print('MSE is {}'.format(mse))\n",
        "print('RMSE is {}'.format(rmse))\n",
        "print('R2 score is {}'.format(r2))\n",
        "print('Adjusted R2 score is {}'.format(adjusted_r_squared))"
      ],
      "metadata": {
        "colab": {
          "base_uri": "https://localhost:8080/"
        },
        "id": "6BycnJamduNK",
        "outputId": "ccb56b6f-7c49-476d-d7fb-2089aa9366b9"
      },
      "execution_count": 11,
      "outputs": [
        {
          "output_type": "stream",
          "name": "stdout",
          "text": [
            "The model performance for training set-Decision tree Regression\n",
            "--------------------------------------\n",
            "MSE is 1.4725262564891514e-30\n",
            "RMSE is 1.2134769287008103e-15\n",
            "R2 score is 1.0\n",
            "Adjusted R2 score is 1.0\n",
            "\n",
            "\n",
            "The model performance for testing set- Decision tree regression\n",
            "--------------------------------------\n",
            "MSE is 1.0131144461948882\n",
            "RMSE is 1.006535864336134\n",
            "R2 score is 0.2675622290702667\n",
            "Adjusted R2 score is 0.15703495651763955\n"
          ]
        }
      ]
    },
    {
      "cell_type": "markdown",
      "source": [
        "Support Vector regression"
      ],
      "metadata": {
        "id": "YJVwUNqygtTF"
      }
    },
    {
      "cell_type": "code",
      "source": [
        "from sklearn.svm import SVR\n",
        "regressor=SVR(kernel='rbf')\n",
        "\n",
        "# fit the regressor with X and Y data\n",
        "regressor.fit(X_train,Y_train)\n",
        "\n",
        "# model evaluation for training set\n",
        "y_train_predict = regressor.predict(X_train)\n",
        "mse=mean_squared_error(Y_train**2, y_train_predict**2)\n",
        "rmse = (np.sqrt(mean_squared_error(Y_train**2, y_train_predict**2)))\n",
        "r2 = r2_score(Y_train**2, y_train_predict**2)\n",
        "adjusted_r_squared = 1 - (1-r2)*(len(Y_train)-1)/(len(Y_train)-X_train.shape[1]-1)\n",
        "\n",
        "print(\"The model performance for training set - supoort vector regression\")\n",
        "print(\"--------------------------------------\")\n",
        "print('MSE is {}'.format(mse))\n",
        "print('RMSE is {}'.format(rmse))\n",
        "print('R2 score is {}'.format(r2))\n",
        "print('Adjusted R2 score is {}'.format(adjusted_r_squared))\n",
        "print(\"\\n\")\n",
        "\n",
        "# model evaluation for testing set\n",
        "y_test_predict = regressor.predict(X_test)\n",
        "mse=mean_squared_error(Y_test**2, y_test_predict**2)\n",
        "rmse = (np.sqrt(mean_squared_error(Y_test**2, y_test_predict**2)))\n",
        "r2 = r2_score(Y_test**2, y_test_predict**2)\n",
        "adjusted_r_squared = 1 - (1-r2)*(len(Y_test)-1)/(len(Y_test)-X_test.shape[1]-1)\n",
        "\n",
        "print(\"The model performance for testing set - support vector regression\")\n",
        "print(\"--------------------------------------\")\n",
        "print('MSE is {}'.format(mse))\n",
        "print('RMSE is {}'.format(rmse))\n",
        "print('R2 score is {}'.format(r2))\n",
        "print('Adjusted R2 score is {}'.format(adjusted_r_squared))"
      ],
      "metadata": {
        "colab": {
          "base_uri": "https://localhost:8080/"
        },
        "id": "MidMwoYog4s6",
        "outputId": "bdcc8afa-5fde-48b8-9c66-6282491ec50c"
      },
      "execution_count": 12,
      "outputs": [
        {
          "output_type": "stream",
          "name": "stdout",
          "text": [
            "The model performance for training set - supoort vector regression\n",
            "--------------------------------------\n",
            "MSE is 0.4860112562277793\n",
            "RMSE is 0.697145075452577\n",
            "R2 score is 0.6625246049021944\n",
            "Adjusted R2 score is 0.6510847610005739\n",
            "\n",
            "\n",
            "The model performance for testing set - support vector regression\n",
            "--------------------------------------\n",
            "MSE is 0.7311281023096058\n",
            "RMSE is 0.8550602916225298\n",
            "R2 score is 0.47142611623887476\n",
            "Adjusted R2 score is 0.39166257586259445\n"
          ]
        }
      ]
    },
    {
      "cell_type": "markdown",
      "source": [
        " Multiple linear Regression"
      ],
      "metadata": {
        "id": "3amx5c6shap6"
      }
    },
    {
      "cell_type": "code",
      "source": [
        "from sklearn.linear_model import LinearRegression\n",
        "regressor = LinearRegression()\n",
        "\n",
        "# fit the regressor with X and Y data\n",
        "regressor.fit(X_train,Y_train)\n",
        "\n",
        "# model evaluation for training set\n",
        "y_train_predict = regressor.predict(X_train)\n",
        "mse=mean_squared_error(Y_train**2, y_train_predict**2)\n",
        "rmse = (np.sqrt(mean_squared_error(Y_train**2, y_train_predict**2)))\n",
        "r2 = r2_score(Y_train**2, y_train_predict**2)\n",
        "adjusted_r_squared = 1 - (1-r2)*(len(Y_train)-1)/(len(Y_train)-X_train.shape[1]-1)\n",
        "\n",
        "print(\"The model performance for training set - Multiple Linear Regression\")\n",
        "print(\"--------------------------------------\")\n",
        "print('MSE is {}'.format(mse))\n",
        "print('RMSE is {}'.format(rmse))\n",
        "print('R2 score is {}'.format(r2))\n",
        "print('Adjusted R2 score is {}'.format(adjusted_r_squared))\n",
        "print(\"\\n\")\n",
        "\n",
        "# model evaluation for testing set\n",
        "y_test_predict = regressor.predict(X_test)\n",
        "mse=mean_squared_error(Y_test**2, y_test_predict**2)\n",
        "rmse = (np.sqrt(mean_squared_error(Y_test**2, y_test_predict**2)))\n",
        "r2 = r2_score(Y_test**2, y_test_predict**2)\n",
        "adjusted_r_squared = 1 - (1-r2)*(len(Y_test)-1)/(len(Y_test)-X_test.shape[1]-1)\n",
        "\n",
        "print(\"The model performance for testing set - Multiple Linear Regression\")\n",
        "print(\"--------------------------------------\")\n",
        "print('MSE is {}'.format(mse))\n",
        "print('RMSE is {}'.format(rmse))\n",
        "print('R2 score is {}'.format(r2))\n",
        "print('Adjusted R2 score is {}'.format(adjusted_r_squared))"
      ],
      "metadata": {
        "colab": {
          "base_uri": "https://localhost:8080/"
        },
        "id": "buOryYIxhoR5",
        "outputId": "4abc5471-1d59-4c03-b319-054f40983361"
      },
      "execution_count": 13,
      "outputs": [
        {
          "output_type": "stream",
          "name": "stdout",
          "text": [
            "The model performance for training set - Multiple Linear Regression\n",
            "--------------------------------------\n",
            "MSE is 0.9193260217648025\n",
            "RMSE is 0.9588149048511931\n",
            "R2 score is 0.36164047963250157\n",
            "Adjusted R2 score is 0.3400011738573322\n",
            "\n",
            "\n",
            "The model performance for testing set - Multiple Linear Regression\n",
            "--------------------------------------\n",
            "MSE is 0.9189438530433109\n",
            "RMSE is 0.9586155919049674\n",
            "R2 score is 0.33564348049662707\n",
            "Adjusted R2 score is 0.2353898930689129\n"
          ]
        }
      ]
    },
    {
      "cell_type": "code",
      "source": [
        "# Create a regressor object for Multiple linear Regression\n",
        "regressor = xg.XGBRegressor(objective='reg:linear',n_estimators=100, seed=123)\n",
        "\n",
        "# fit the regressor with X and Y data\n",
        "regressor.fit(X_train,Y_train)\n",
        "\n",
        "# model evaluation for training set\n",
        "y_train_predict = regressor.predict(X_train)\n",
        "mse=mean_squared_error(Y_train**2, y_train_predict**2)\n",
        "rmse = (np.sqrt(mean_squared_error(Y_train**2, y_train_predict**2)))\n",
        "r2 = r2_score(Y_train**2, y_train_predict**2)\n",
        "adjusted_r_squared = 1 - (1-r2)*(len(Y_train)-1)/(len(Y_train)-X_train.shape[1]-1)\n",
        "\n",
        "print(\"The model performance for training set - XGBoost Algorithm\")\n",
        "print(\"--------------------------------------\")\n",
        "print('MSE is {}'.format(mse))\n",
        "print('RMSE is {}'.format(rmse))\n",
        "print('R2 score is {}'.format(r2))\n",
        "print('Adjusted R2 score is {}'.format(adjusted_r_squared))\n",
        "print(\"\\n\")\n",
        "\n",
        "# model evaluation for testing set\n",
        "y_test_predict = regressor.predict(X_test)\n",
        "mse=mean_squared_error(Y_test**2, y_test_predict**2)\n",
        "rmse = (np.sqrt(mean_squared_error(Y_test**2, y_test_predict**2)))\n",
        "r2 = r2_score(Y_test**2, y_test_predict**2)\n",
        "adjusted_r_squared = 1 - (1-r2)*(len(Y_test)-1)/(len(Y_test)-X_test.shape[1]-1)\n",
        "\n",
        "print(\"The model performance for testing set - XGBoost Algorithm\")\n",
        "print(\"--------------------------------------\")\n",
        "print('MSE is {}'.format(mse))\n",
        "print('RMSE is {}'.format(rmse))\n",
        "print('R2 score is {}'.format(r2))\n",
        "print('Adjusted R2 score is {}'.format(adjusted_r_squared))\n",
        "\n",
        "end=time.time()\n",
        "tot_time=end-start\n",
        "print(\"Total time taken by program\",tot_time)"
      ],
      "metadata": {
        "colab": {
          "base_uri": "https://localhost:8080/"
        },
        "id": "SBixhoMOhu-k",
        "outputId": "1f0a7c3d-548c-48bb-a177-47be924501b2"
      },
      "execution_count": 14,
      "outputs": [
        {
          "output_type": "stream",
          "name": "stdout",
          "text": [
            "[15:00:21] WARNING: /workspace/src/objective/regression_obj.cu:152: reg:linear is now deprecated in favor of reg:squarederror.\n",
            "The model performance for training set - XGBoost Algorithm\n",
            "--------------------------------------\n",
            "MSE is 0.6391899666888324\n",
            "RMSE is 0.799493568885224\n",
            "R2 score is 0.5561607189406956\n",
            "Adjusted R2 score is 0.5411153195827532\n",
            "\n",
            "\n",
            "The model performance for testing set - XGBoost Algorithm\n",
            "--------------------------------------\n",
            "MSE is 0.7339852942163869\n",
            "RMSE is 0.8567294171536232\n",
            "R2 score is 0.46936049050509787\n",
            "Adjusted R2 score is 0.3892852404006599\n",
            "Total time taken by program 132.30096077919006\n"
          ]
        }
      ]
    }
  ]
}